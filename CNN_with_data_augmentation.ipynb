{
 "cells": [
  {
   "cell_type": "code",
   "execution_count": 182,
   "metadata": {},
   "outputs": [],
   "source": [
    "import os, shutil\n",
    "import matplotlib.pyplot as plt\n",
    "from tensorflow.keras.preprocessing.image import ImageDataGenerator\n",
    "import tensorflow as tf\n",
    "import numpy as np"
   ]
  },
  {
   "cell_type": "code",
   "execution_count": 183,
   "metadata": {},
   "outputs": [],
   "source": [
    "base_dir = \"C:/Users/Hermi/Desktop/Generated_Doodles/\"\n",
    "\n",
    "validation_dir = os.path.join(base_dir, 'validation')\n",
    "train_dir = os.path.join(base_dir, 'train')\n",
    "test_dir = os.path.join(base_dir, 'test')\n"
   ]
  },
  {
   "cell_type": "code",
   "execution_count": 184,
   "metadata": {},
   "outputs": [],
   "source": [
    "categories = [\"cruise_ship\", \"dragon\", \"giraffe\", \"hammer\", \"lion\",\n",
    "                     \"monkey\", \"ocean\", \"panda\", \"penguin\", \"shark\", \n",
    "                     \"snake\", \"spider\", \"tiger\", \"whale\", \"zebra\"]\n",
    "\n",
    "# 100 train, 50 validation, 70 test\n",
    "train_cruise_ship_dir = os.path.join(train_dir, \"cruise_ship\").replace(\"\\\\\",\"/\")\n",
    "train_dragon_dir = os.path.join(train_dir, \"dragon\").replace(\"\\\\\",\"/\")\n",
    "train_giraffe_dir = os.path.join(train_dir, \"giraffe\").replace(\"\\\\\",\"/\")\n",
    "train_hammer_dir = os.path.join(train_dir, \"hammer\").replace(\"\\\\\",\"/\")\n",
    "train_lion_dir = os.path.join(train_dir, \"lion\").replace(\"\\\\\",\"/\")\n",
    "train_monkey_dir = os.path.join(train_dir, \"monkey\").replace(\"\\\\\",\"/\")\n",
    "train_ocean_dir = os.path.join(train_dir, \"ocean\").replace(\"\\\\\",\"/\")\n",
    "train_panda_dir = os.path.join(train_dir, \"panda\").replace(\"\\\\\",\"/\")\n",
    "train_penguin_dir = os.path.join(train_dir, \"penguin\").replace(\"\\\\\",\"/\")\n",
    "train_shark_dir = os.path.join(train_dir, \"shark\").replace(\"\\\\\",\"/\")\n",
    "train_snake_dir = os.path.join(train_dir, \"snake\").replace(\"\\\\\",\"/\")\n",
    "train_spider_dir = os.path.join(train_dir, \"spider\").replace(\"\\\\\",\"/\")\n",
    "train_tiger_dir = os.path.join(train_dir, \"tiger\").replace(\"\\\\\",\"/\")\n",
    "train_whale_dir = os.path.join(train_dir, \"whale\").replace(\"\\\\\",\"/\")\n",
    "train_zebra_dir = os.path.join(train_dir, \"zebra\").replace(\"\\\\\",\"/\")\n",
    "\n",
    "test_cruise_ship_dir = os.path.join(test_dir, \"cruise_ship\").replace(\"\\\\\",\"/\")\n",
    "test_dragon_dir = os.path.join(test_dir, \"dragon\").replace(\"\\\\\",\"/\")\n",
    "test_giraffe_dir = os.path.join(test_dir, \"giraffe\").replace(\"\\\\\",\"/\")\n",
    "test_hammer_dir = os.path.join(test_dir, \"hammer\").replace(\"\\\\\",\"/\")\n",
    "test_lion_dir = os.path.join(test_dir, \"lion\").replace(\"\\\\\",\"/\")\n",
    "test_monkey_dir = os.path.join(test_dir, \"monkey\").replace(\"\\\\\",\"/\")\n",
    "test_ocean_dir = os.path.join(test_dir, \"ocean\").replace(\"\\\\\",\"/\")\n",
    "test_panda_dir = os.path.join(test_dir, \"panda\").replace(\"\\\\\",\"/\")\n",
    "test_penguin_dir = os.path.join(test_dir, \"penguin\").replace(\"\\\\\",\"/\")\n",
    "test_shark_dir = os.path.join(test_dir, \"shark\").replace(\"\\\\\",\"/\")\n",
    "test_snake_dir = os.path.join(test_dir, \"snake\").replace(\"\\\\\",\"/\")\n",
    "test_spider_dir = os.path.join(test_dir, \"spider\").replace(\"\\\\\",\"/\")\n",
    "test_tiger_dir = os.path.join(test_dir, \"tiger\").replace(\"\\\\\",\"/\")\n",
    "test_whale_dir = os.path.join(test_dir, \"whale\").replace(\"\\\\\",\"/\")\n",
    "test_zebra_dir = os.path.join(test_dir, \"zebra\").replace(\"\\\\\",\"/\")\n",
    "\n",
    "validation_cruise_ship_dir = os.path.join(validation_dir, \"cruise_ship\").replace(\"\\\\\",\"/\")\n",
    "validation_dragon_dir = os.path.join(validation_dir, \"dragon\").replace(\"\\\\\",\"/\")\n",
    "validation_giraffe_dir = os.path.join(validation_dir, \"giraffe\").replace(\"\\\\\",\"/\")\n",
    "validation_hammer_dir = os.path.join(validation_dir, \"hammer\").replace(\"\\\\\",\"/\")\n",
    "validation_lion_dir = os.path.join(validation_dir, \"lion\").replace(\"\\\\\",\"/\")\n",
    "validation_monkey_dir = os.path.join(validation_dir, \"monkey\").replace(\"\\\\\",\"/\")\n",
    "validation_ocean_dir = os.path.join(validation_dir, \"ocean\").replace(\"\\\\\",\"/\")\n",
    "validation_panda_dir = os.path.join(validation_dir, \"panda\").replace(\"\\\\\",\"/\")\n",
    "validation_penguin_dir = os.path.join(validation_dir, \"penguin\").replace(\"\\\\\",\"/\")\n",
    "validation_shark_dir = os.path.join(validation_dir, \"shark\").replace(\"\\\\\",\"/\")\n",
    "validation_snake_dir = os.path.join(validation_dir, \"snake\").replace(\"\\\\\",\"/\")\n",
    "validation_spider_dir = os.path.join(validation_dir, \"spider\").replace(\"\\\\\",\"/\")\n",
    "validation_tiger_dir = os.path.join(validation_dir, \"tiger\").replace(\"\\\\\",\"/\")\n",
    "validation_whale_dir = os.path.join(validation_dir, \"whale\").replace(\"\\\\\",\"/\")\n",
    "validation_zebra_dir = os.path.join(validation_dir, \"zebra\").replace(\"\\\\\",\"/\")"
   ]
  },
  {
   "cell_type": "code",
   "execution_count": 65,
   "metadata": {},
   "outputs": [
    {
     "name": "stdout",
     "output_type": "stream",
     "text": [
      "Label:  [0. 0. 0. 0. 0. 0. 0. 0. 0. 0. 0. 0. 0. 0. 1.]\n"
     ]
    },
    {
     "data": {
      "image/png": "[encoded data removed]",
      "text/plain": [
       "<Figure size 432x288 with 1 Axes>"
      ]
     },
     "metadata": {
      "needs_background": "light"
     },
     "output_type": "display_data"
    },
    {
     "name": "stdout",
     "output_type": "stream",
     "text": [
      "Label:  [0. 0. 0. 0. 0. 0. 0. 0. 0. 0. 0. 0. 0. 0. 1.]\n"
     ]
    },
    {
     "data": {
      "image/png": "[encoded data removed]",
      "text/plain": [
       "<Figure size 432x288 with 1 Axes>"
      ]
     },
     "metadata": {
      "needs_background": "light"
     },
     "output_type": "display_data"
    },
    {
     "name": "stdout",
     "output_type": "stream",
     "text": [
      "Label:  [0. 0. 0. 0. 0. 1. 0. 0. 0. 0. 0. 0. 0. 0. 0.]\n"
     ]
    },
    {
     "data": {
      "image/png": "[encoded data removed]",
      "text/plain": [
       "<Figure size 432x288 with 1 Axes>"
      ]
     },
     "metadata": {
      "needs_background": "light"
     },
     "output_type": "display_data"
    }
   ],
   "source": [
    "# count = 0\n",
    "\n",
    "# for data_batch, labels_batch in train_generator:\n",
    "# #     print('data batch shape: ', data_batch.shape)\n",
    "# #     print('labels batch shape: ', labels_batch.shape)\n",
    "\n",
    "#     img = data_batch[0].astype(np.uint8)\n",
    "#     plt.imshow(img)\n",
    "#     print('Label: ', labels_batch[0])\n",
    "#     plt.pause(3)\n",
    "#     count+=1\n",
    "#     if count == 3:\n",
    "#         break"
   ]
  },
  {
   "cell_type": "code",
   "execution_count": 189,
   "metadata": {},
   "outputs": [],
   "source": [
    "class FixedImageDataGenerator(ImageDataGenerator):\n",
    "    def standardize(self, x):\n",
    "        if self.featurewise_center:\n",
    "            x = ((x/255.) - 0.5) * 2.\n",
    "        return x"
   ]
  },
  {
   "cell_type": "code",
   "execution_count": null,
   "metadata": {},
   "outputs": [],
   "source": [
    "train_datagen = FixedImageDataGenerator(1./255)\n",
    "validation_datagen = FixedImageDataGenerator(1./255)"
   ]
  },
  {
   "cell_type": "code",
   "execution_count": null,
   "metadata": {},
   "outputs": [],
   "source": [
    "# no agumentation or transfer learning \n",
    "\n",
    "train_generator = train_datagen.flow_from_directory(train_dir, \n",
    "                                                   target_size = (150, 150), \n",
    "                                                   batch_size = 10, \n",
    "                                                   class_mode = 'categorical')\n",
    "\n",
    "validation_generator = validation_datagen.flow_from_directory(validation_dir, \n",
    "                                                              target_size = (150, 150), \n",
    "                                                              batch_size = 10, \n",
    "                                                              class_mode = 'categorical')\n",
    "\n",
    "\n",
    "model = tf.keras.models.Sequential([\n",
    "    tf.keras.layers.Conv2D(32, (3,3), activation = 'relu', input_shape = (150, 150, 3)),\n",
    "    tf.keras.layers.MaxPooling2D((2,2)),\n",
    "    tf.keras.layers.Conv2D(64, (3,3), activation = 'relu'),\n",
    "    tf.keras.layers.MaxPooling2D((2,2)),\n",
    "    tf.keras.layers.Conv2D(64, (3,3), activation = 'relu'),\n",
    "    tf.keras.layers.MaxPooling2D((2,2)),\n",
    "    tf.keras.layers.Flatten(),\n",
    "    tf.keras.layers.Dense(512, activation = 'relu'),\n",
    "    tf.keras.layers.Dense(15, activation = 'softmax')\n",
    "])\n",
    "\n",
    "model.summary()\n",
    "\n",
    "model.compile(optimizer = tf.keras.optimizers.RMSprop(lr = 0.001), \n",
    "              loss = \"categorical_crossentropy\", metrics = ['accuracy'])\n",
    "\n",
    "history = model.fit(train_generator,\n",
    "                    steps_per_epoch = 150,\n",
    "                    epochs = 10,\n",
    "                    validation_data = validation_generator,\n",
    "                    validation_steps = 75)"
   ]
  },
  {
   "cell_type": "code",
   "execution_count": 212,
   "metadata": {},
   "outputs": [
    {
     "name": "stdout",
     "output_type": "stream",
     "text": [
      "Model: \"sequential_15\"\n",
      "_________________________________________________________________\n",
      "Layer (type)                 Output Shape              Param #   \n",
      "=================================================================\n",
      "conv2d_53 (Conv2D)           (None, 148, 148, 32)      896       \n",
      "_________________________________________________________________\n",
      "max_pooling2d_53 (MaxPooling (None, 74, 74, 32)        0         \n",
      "_________________________________________________________________\n",
      "conv2d_54 (Conv2D)           (None, 72, 72, 64)        18496     \n",
      "_________________________________________________________________\n",
      "max_pooling2d_54 (MaxPooling (None, 36, 36, 64)        0         \n",
      "_________________________________________________________________\n",
      "conv2d_55 (Conv2D)           (None, 34, 34, 64)        36928     \n",
      "_________________________________________________________________\n",
      "max_pooling2d_55 (MaxPooling (None, 17, 17, 64)        0         \n",
      "_________________________________________________________________\n",
      "flatten_16 (Flatten)         (None, 18496)             0         \n",
      "_________________________________________________________________\n",
      "dense_30 (Dense)             (None, 512)               9470464   \n",
      "_________________________________________________________________\n",
      "dense_31 (Dense)             (None, 15)                7695      \n",
      "=================================================================\n",
      "Total params: 9,534,479\n",
      "Trainable params: 9,534,479\n",
      "Non-trainable params: 0\n",
      "_________________________________________________________________\n"
     ]
    }
   ],
   "source": [
    "model.summary()"
   ]
  },
  {
   "cell_type": "code",
   "execution_count": 193,
   "metadata": {
    "scrolled": true
   },
   "outputs": [
    {
     "data": {
      "image/png": "[encoded data removed]",
      "text/plain": [
       "<Figure size 432x288 with 1 Axes>"
      ]
     },
     "metadata": {
      "needs_background": "light"
     },
     "output_type": "display_data"
    }
   ],
   "source": [
    "# train and validation accuracy by epoch\n",
    "\n",
    "acc = history.history['accuracy']\n",
    "val_acc = history.history['val_accuracy']\n",
    "epochs = range(1, len(acc)+1)\n",
    "\n",
    "plt.plot(epochs, acc, 'b', label = 'Training', color = 'green')\n",
    "plt.plot(epochs, val_acc, 'b', label = 'Validation')\n",
    "plt.title('Training and validation accuracy\\n')\n",
    "plt.legend(loc = 4)\n",
    "plt.savefig(\"Train_and_val_acc_original_10_epoch.jpg\")"
   ]
  },
  {
   "cell_type": "code",
   "execution_count": 194,
   "metadata": {},
   "outputs": [
    {
     "data": {
      "image/png": "[encoded data removed]",
      "text/plain": [
       "<Figure size 432x288 with 1 Axes>"
      ]
     },
     "metadata": {
      "needs_background": "light"
     },
     "output_type": "display_data"
    }
   ],
   "source": [
    "# train and validation loss by epoch\n",
    "\n",
    "loss = history.history['loss']\n",
    "val_loss = history.history['val_loss']\n",
    "epochs = range(1, len(loss)+1)\n",
    "\n",
    "plt.plot(epochs, loss, 'b', label = 'Training loss', color = 'green')\n",
    "plt.plot(epochs, val_loss, 'b', label = 'Validation loss')\n",
    "plt.title('Training and Validation Loss\\n')\n",
    "plt.legend()\n",
    "plt.savefig(\"Train_and_val_loss_original_10_epoch.jpg\")"
   ]
  },
  {
   "cell_type": "code",
   "execution_count": 195,
   "metadata": {},
   "outputs": [
    {
     "name": "stdout",
     "output_type": "stream",
     "text": [
      "Found 1500 images belonging to 15 classes.\n",
      "Model: \"sequential_16\"\n",
      "_________________________________________________________________\n",
      "Layer (type)                 Output Shape              Param #   \n",
      "=================================================================\n",
      "conv2d_56 (Conv2D)           (None, 148, 148, 32)      896       \n",
      "_________________________________________________________________\n",
      "max_pooling2d_56 (MaxPooling (None, 74, 74, 32)        0         \n",
      "_________________________________________________________________\n",
      "conv2d_57 (Conv2D)           (None, 72, 72, 64)        18496     \n",
      "_________________________________________________________________\n",
      "max_pooling2d_57 (MaxPooling (None, 36, 36, 64)        0         \n",
      "_________________________________________________________________\n",
      "conv2d_58 (Conv2D)           (None, 34, 34, 64)        36928     \n",
      "_________________________________________________________________\n",
      "max_pooling2d_58 (MaxPooling (None, 17, 17, 64)        0         \n",
      "_________________________________________________________________\n",
      "flatten_17 (Flatten)         (None, 18496)             0         \n",
      "_________________________________________________________________\n",
      "dropout_1 (Dropout)          (None, 18496)             0         \n",
      "_________________________________________________________________\n",
      "dense_32 (Dense)             (None, 512)               9470464   \n",
      "_________________________________________________________________\n",
      "dense_33 (Dense)             (None, 15)                7695      \n",
      "=================================================================\n",
      "Total params: 9,534,479\n",
      "Trainable params: 9,534,479\n",
      "Non-trainable params: 0\n",
      "_________________________________________________________________\n",
      "WARNING:tensorflow:sample_weight modes were coerced from\n",
      "  ...\n",
      "    to  \n",
      "  ['...']\n",
      "WARNING:tensorflow:sample_weight modes were coerced from\n",
      "  ...\n",
      "    to  \n",
      "  ['...']\n",
      "Train for 150 steps, validate for 75 steps\n",
      "Epoch 1/10\n",
      "150/150 [==============================] - 118s 785ms/step - loss: 2.4561 - accuracy: 0.2307 - val_loss: 1.6368 - val_accuracy: 0.4773\n",
      "Epoch 2/10\n",
      "150/150 [==============================] - 116s 775ms/step - loss: 1.2003 - accuracy: 0.6120 - val_loss: 1.1815 - val_accuracy: 0.6093\n",
      "Epoch 3/10\n",
      "150/150 [==============================] - 114s 758ms/step - loss: 0.6509 - accuracy: 0.7847 - val_loss: 1.2139 - val_accuracy: 0.6400\n",
      "Epoch 4/10\n",
      "150/150 [==============================] - 115s 766ms/step - loss: 0.3255 - accuracy: 0.8913 - val_loss: 1.6063 - val_accuracy: 0.5933\n",
      "Epoch 5/10\n",
      "150/150 [==============================] - 116s 775ms/step - loss: 0.1788 - accuracy: 0.9413 - val_loss: 1.5036 - val_accuracy: 0.6387\n",
      "Epoch 6/10\n",
      "150/150 [==============================] - 122s 815ms/step - loss: 0.1087 - accuracy: 0.9667 - val_loss: 2.0458 - val_accuracy: 0.6200\n",
      "Epoch 7/10\n",
      "150/150 [==============================] - 118s 788ms/step - loss: 0.0762 - accuracy: 0.9767 - val_loss: 2.5197 - val_accuracy: 0.6227\n",
      "Epoch 8/10\n",
      "150/150 [==============================] - 119s 792ms/step - loss: 0.0574 - accuracy: 0.9833 - val_loss: 2.4779 - val_accuracy: 0.6320\n",
      "Epoch 9/10\n",
      "150/150 [==============================] - 119s 790ms/step - loss: 0.0544 - accuracy: 0.9800 - val_loss: 2.5792 - val_accuracy: 0.6240\n",
      "Epoch 10/10\n",
      "150/150 [==============================] - 118s 790ms/step - loss: 0.0202 - accuracy: 0.9940 - val_loss: 3.2417 - val_accuracy: 0.6360\n"
     ]
    }
   ],
   "source": [
    "# data agumentation applied to our dataset and dropout of 0.5\n",
    "\n",
    "train_datagen_2 = FixedImageDataGenerator(rescale = 1./255, \n",
    "                                   rotation_range = 40, \n",
    "                                   width_shift_range = 0.2, \n",
    "                                   zoom_range = 0.2,  \n",
    "                                   shear_range = 0.2,\n",
    "                                   horizontal_flip = True)\n",
    "\n",
    "train_generator_2 = train_datagen_2.flow_from_directory(train_dir, \n",
    "                                                   target_size = (150, 150),\n",
    "                                                   batch_size = 10, \n",
    "                                                   class_mode = 'categorical')\n",
    "\n",
    "model_2 = tf.keras.models.Sequential([\n",
    "    tf.keras.layers.Conv2D(32, (3,3), activation = 'relu', input_shape = (150, 150, 3)),\n",
    "    tf.keras.layers.MaxPooling2D((2,2)),\n",
    "    tf.keras.layers.Conv2D(64, (3,3), activation = 'relu'),\n",
    "    tf.keras.layers.MaxPooling2D((2,2)),\n",
    "    tf.keras.layers.Conv2D(64, (3,3), activation = 'relu'),\n",
    "    tf.keras.layers.MaxPooling2D((2,2)),\n",
    "    tf.keras.layers.Flatten(),\n",
    "    tf.keras.layers.Dropout(0.5),\n",
    "    tf.keras.layers.Dense(512, activation = 'relu'),\n",
    "    tf.keras.layers.Dense(15, activation = 'softmax')\n",
    "])\n",
    "\n",
    "model_2.summary()\n",
    "    \n",
    "model_2.compile(optimizer = tf.keras.optimizers.RMSprop(lr = 0.001), \n",
    "              loss = \"categorical_crossentropy\", metrics = ['accuracy'])\n",
    "    \n",
    "history = model_2.fit(train_generator,\n",
    "                    steps_per_epoch = 150,\n",
    "                    epochs = 10,\n",
    "                    validation_data = validation_generator,\n",
    "                    validation_steps = 75)"
   ]
  },
  {
   "cell_type": "code",
   "execution_count": 196,
   "metadata": {},
   "outputs": [
    {
     "data": {
      "image/png": "[encoded data removed]",
      "text/plain": [
       "<Figure size 432x288 with 1 Axes>"
      ]
     },
     "metadata": {
      "needs_background": "light"
     },
     "output_type": "display_data"
    }
   ],
   "source": [
    "# train and validation accuracy by epoch\n",
    "\n",
    "acc = history.history['accuracy']\n",
    "val_acc = history.history['val_accuracy']\n",
    "epochs = range(1, len(acc)+1)\n",
    "\n",
    "plt.plot(epochs, acc, 'b', label = 'Training', color = 'green')\n",
    "plt.plot(epochs, val_acc, 'b', label = 'Validation')\n",
    "plt.title('Training and validation accuracy\\n')\n",
    "plt.legend(loc = 4)\n",
    "plt.savefig(\"Train_and_val_acc_augmented.jpg\")"
   ]
  },
  {
   "cell_type": "code",
   "execution_count": 197,
   "metadata": {},
   "outputs": [
    {
     "data": {
      "image/png": "[encoded data removed]",
      "text/plain": [
       "<Figure size 432x288 with 1 Axes>"
      ]
     },
     "metadata": {
      "needs_background": "light"
     },
     "output_type": "display_data"
    }
   ],
   "source": [
    "# train and validation loss by epoch\n",
    "\n",
    "loss = history.history['loss']\n",
    "val_loss = history.history['val_loss']\n",
    "epochs = range(1, len(loss)+1)\n",
    "\n",
    "plt.plot(epochs, loss, 'b', label = 'Training loss', color = 'green')\n",
    "plt.plot(epochs, val_loss, 'b', label = 'Validation loss')\n",
    "plt.title('Training and Validation Loss\\n')\n",
    "plt.legend()\n",
    "plt.savefig(\"Train_and_val_loss_augmented.jpg\")"
   ]
  },
  {
   "cell_type": "code",
   "execution_count": 198,
   "metadata": {},
   "outputs": [],
   "source": [
    "# Transfer Learning using VGG19 for feature extraction\n",
    "\n",
    "from tensorflow.keras.applications import VGG19\n",
    "\n",
    "conv_base = VGG19(weights = 'imagenet', \n",
    "                  include_top = False, \n",
    "                  input_shape = (150, 150, 3))\n",
    "\n",
    "datagen = FixedImageDataGenerator(rescale = 1./255)\n",
    "batch_size = 20\n",
    "\n",
    "def extract_features(directory, sample_count):\n",
    "    \n",
    "    features = np.zeros((sample_count, 4, 4, 512))\n",
    "    labels = np.zeros((sample_count, 15))\n",
    "    generator = datagen.flow_from_directory(directory, \n",
    "                                           target_size = (150, 150),\n",
    "                                           batch_size = batch_size,\n",
    "                                           class_mode = \"categorical\")\n",
    "    \n",
    "    i = 0\n",
    "    for inputs_batch, labels_batch in generator:\n",
    "        features_batch = conv_base.predict(inputs_batch)\n",
    "        features[i*batch_size : (i+1)*batch_size] = features_batch\n",
    "        labels[i*batch_size : (i+1)*batch_size] = labels_batch\n",
    "        \n",
    "        print(\"i is: \", i)\n",
    "        i += 1\n",
    "        if i * batch_size >= sample_count:\n",
    "            break\n",
    "            \n",
    "    return features, labels\n"
   ]
  },
  {
   "cell_type": "code",
   "execution_count": 204,
   "metadata": {},
   "outputs": [
    {
     "name": "stdout",
     "output_type": "stream",
     "text": [
      "Found 1500 images belonging to 15 classes.\n",
      "i is:  0\n",
      "i is:  1\n",
      "i is:  2\n",
      "i is:  3\n",
      "i is:  4\n",
      "i is:  5\n",
      "i is:  6\n",
      "i is:  7\n",
      "i is:  8\n",
      "i is:  9\n",
      "i is:  10\n",
      "i is:  11\n",
      "i is:  12\n",
      "i is:  13\n",
      "i is:  14\n",
      "i is:  15\n",
      "i is:  16\n",
      "i is:  17\n",
      "i is:  18\n",
      "i is:  19\n",
      "i is:  20\n",
      "i is:  21\n",
      "i is:  22\n",
      "i is:  23\n",
      "i is:  24\n",
      "i is:  25\n",
      "i is:  26\n",
      "i is:  27\n",
      "i is:  28\n",
      "i is:  29\n",
      "i is:  30\n",
      "i is:  31\n",
      "i is:  32\n",
      "i is:  33\n",
      "i is:  34\n",
      "i is:  35\n",
      "i is:  36\n",
      "i is:  37\n",
      "i is:  38\n",
      "i is:  39\n",
      "i is:  40\n",
      "i is:  41\n",
      "i is:  42\n",
      "i is:  43\n",
      "i is:  44\n",
      "i is:  45\n",
      "i is:  46\n",
      "i is:  47\n",
      "i is:  48\n",
      "i is:  49\n",
      "i is:  50\n",
      "i is:  51\n",
      "i is:  52\n",
      "i is:  53\n",
      "i is:  54\n",
      "i is:  55\n",
      "i is:  56\n",
      "i is:  57\n",
      "i is:  58\n",
      "i is:  59\n",
      "i is:  60\n",
      "i is:  61\n",
      "i is:  62\n",
      "i is:  63\n",
      "i is:  64\n",
      "i is:  65\n",
      "i is:  66\n",
      "i is:  67\n",
      "i is:  68\n",
      "i is:  69\n",
      "i is:  70\n",
      "i is:  71\n",
      "i is:  72\n",
      "i is:  73\n",
      "i is:  74\n"
     ]
    }
   ],
   "source": [
    "train_features, train_labels = extract_features(train_dir, 1500)"
   ]
  },
  {
   "cell_type": "code",
   "execution_count": null,
   "metadata": {},
   "outputs": [],
   "source": [
    "validation_features, validation_labels = extract_features(validation_dir, 750)"
   ]
  },
  {
   "cell_type": "code",
   "execution_count": 203,
   "metadata": {},
   "outputs": [
    {
     "name": "stdout",
     "output_type": "stream",
     "text": [
      "Found 900 images belonging to 15 classes.\n",
      "i is:  0\n",
      "i is:  1\n",
      "i is:  2\n",
      "i is:  3\n",
      "i is:  4\n",
      "i is:  5\n",
      "i is:  6\n",
      "i is:  7\n",
      "i is:  8\n",
      "i is:  9\n",
      "i is:  10\n",
      "i is:  11\n",
      "i is:  12\n",
      "i is:  13\n",
      "i is:  14\n",
      "i is:  15\n",
      "i is:  16\n",
      "i is:  17\n",
      "i is:  18\n",
      "i is:  19\n",
      "i is:  20\n",
      "i is:  21\n",
      "i is:  22\n",
      "i is:  23\n",
      "i is:  24\n",
      "i is:  25\n",
      "i is:  26\n",
      "i is:  27\n",
      "i is:  28\n",
      "i is:  29\n",
      "i is:  30\n",
      "i is:  31\n",
      "i is:  32\n",
      "i is:  33\n",
      "i is:  34\n",
      "i is:  35\n",
      "i is:  36\n",
      "i is:  37\n",
      "i is:  38\n",
      "i is:  39\n",
      "i is:  40\n",
      "i is:  41\n",
      "i is:  42\n",
      "i is:  43\n",
      "i is:  44\n"
     ]
    }
   ],
   "source": [
    "test_features, test_labels = extract_features(test_dir, 900)"
   ]
  },
  {
   "cell_type": "code",
   "execution_count": 209,
   "metadata": {},
   "outputs": [
    {
     "name": "stdout",
     "output_type": "stream",
     "text": [
      "Model: \"sequential_18\"\n",
      "_________________________________________________________________\n",
      "Layer (type)                 Output Shape              Param #   \n",
      "=================================================================\n",
      "dense_36 (Dense)             (None, 256)               2097408   \n",
      "_________________________________________________________________\n",
      "dropout_3 (Dropout)          (None, 256)               0         \n",
      "_________________________________________________________________\n",
      "dense_37 (Dense)             (None, 15)                3855      \n",
      "=================================================================\n",
      "Total params: 2,101,263\n",
      "Trainable params: 2,101,263\n",
      "Non-trainable params: 0\n",
      "_________________________________________________________________\n",
      "Train on 1500 samples, validate on 750 samples\n",
      "Epoch 1/100\n",
      "1500/1500 [==============================] - 3s 2ms/sample - loss: 33.4587 - accuracy: 0.3247 - val_loss: 3.4944 - val_accuracy: 0.3707\n",
      "Epoch 2/100\n",
      "1500/1500 [==============================] - 2s 2ms/sample - loss: 4.5350 - accuracy: 0.2913 - val_loss: 2.0941 - val_accuracy: 0.4107\n",
      "Epoch 3/100\n",
      "1500/1500 [==============================] - 2s 2ms/sample - loss: 3.2314 - accuracy: 0.3040 - val_loss: 2.1427 - val_accuracy: 0.3320\n",
      "Epoch 4/100\n",
      "1500/1500 [==============================] - 2s 2ms/sample - loss: 3.6834 - accuracy: 0.3313 - val_loss: 3.2253 - val_accuracy: 0.3707\n",
      "Epoch 5/100\n",
      "1500/1500 [==============================] - 2s 2ms/sample - loss: 2.7424 - accuracy: 0.3360 - val_loss: 5.5787 - val_accuracy: 0.3747\n",
      "Epoch 6/100\n",
      "1500/1500 [==============================] - 2s 2ms/sample - loss: 2.6729 - accuracy: 0.3293 - val_loss: 2.3918 - val_accuracy: 0.3853\n",
      "Epoch 7/100\n",
      "1500/1500 [==============================] - 4s 2ms/sample - loss: 3.1641 - accuracy: 0.3293 - val_loss: 2.3256 - val_accuracy: 0.3813\n",
      "Epoch 8/100\n",
      "1500/1500 [==============================] - 2s 2ms/sample - loss: 2.8118 - accuracy: 0.3467 - val_loss: 2.7934 - val_accuracy: 0.4053\n",
      "Epoch 9/100\n",
      "1500/1500 [==============================] - 2s 2ms/sample - loss: 2.2117 - accuracy: 0.3687 - val_loss: 2.7772 - val_accuracy: 0.4520\n",
      "Epoch 10/100\n",
      "1500/1500 [==============================] - 3s 2ms/sample - loss: 2.4748 - accuracy: 0.3907 - val_loss: 2.7314 - val_accuracy: 0.4520\n",
      "Epoch 11/100\n",
      "1500/1500 [==============================] - 3s 2ms/sample - loss: 2.5206 - accuracy: 0.3827 - val_loss: 2.2678 - val_accuracy: 0.4187\n",
      "Epoch 12/100\n",
      "1500/1500 [==============================] - 3s 2ms/sample - loss: 2.2003 - accuracy: 0.3800 - val_loss: 2.3621 - val_accuracy: 0.3933\n",
      "Epoch 13/100\n",
      "1500/1500 [==============================] - 2s 2ms/sample - loss: 2.0574 - accuracy: 0.3720 - val_loss: 2.2201 - val_accuracy: 0.4427\n",
      "Epoch 14/100\n",
      "1500/1500 [==============================] - 2s 2ms/sample - loss: 2.6388 - accuracy: 0.3940 - val_loss: 2.3488 - val_accuracy: 0.4653\n",
      "Epoch 15/100\n",
      "1500/1500 [==============================] - 2s 2ms/sample - loss: 1.9872 - accuracy: 0.4200 - val_loss: 2.4825 - val_accuracy: 0.4653\n",
      "Epoch 16/100\n",
      "1500/1500 [==============================] - 3s 2ms/sample - loss: 2.1926 - accuracy: 0.4287 - val_loss: 3.6928 - val_accuracy: 0.5013\n",
      "Epoch 17/100\n",
      "1500/1500 [==============================] - 2s 1ms/sample - loss: 2.1990 - accuracy: 0.4287 - val_loss: 2.7983 - val_accuracy: 0.4920\n",
      "Epoch 18/100\n",
      "1500/1500 [==============================] - 2s 1ms/sample - loss: 2.4142 - accuracy: 0.4040 - val_loss: 2.2576 - val_accuracy: 0.4467\n",
      "Epoch 19/100\n",
      "1500/1500 [==============================] - 2s 1ms/sample - loss: 2.1171 - accuracy: 0.3893 - val_loss: 3.3542 - val_accuracy: 0.4760\n",
      "Epoch 20/100\n",
      "1500/1500 [==============================] - 2s 1ms/sample - loss: 2.0850 - accuracy: 0.4160 - val_loss: 2.4946 - val_accuracy: 0.4467\n",
      "Epoch 21/100\n",
      "1500/1500 [==============================] - 2s 2ms/sample - loss: 1.9847 - accuracy: 0.3987 - val_loss: 3.3735 - val_accuracy: 0.4613\n",
      "Epoch 22/100\n",
      "1500/1500 [==============================] - 3s 2ms/sample - loss: 2.4584 - accuracy: 0.4293 - val_loss: 2.7486 - val_accuracy: 0.4640\n",
      "Epoch 23/100\n",
      "1500/1500 [==============================] - 2s 1ms/sample - loss: 1.9855 - accuracy: 0.4127 - val_loss: 5.4770 - val_accuracy: 0.4853\n",
      "Epoch 24/100\n",
      "1500/1500 [==============================] - 2s 2ms/sample - loss: 2.2490 - accuracy: 0.4433 - val_loss: 3.5091 - val_accuracy: 0.4933\n",
      "Epoch 25/100\n",
      "1500/1500 [==============================] - 3s 2ms/sample - loss: 2.3365 - accuracy: 0.4300 - val_loss: 3.1348 - val_accuracy: 0.4613\n",
      "Epoch 26/100\n",
      "1500/1500 [==============================] - 2s 1ms/sample - loss: 1.9125 - accuracy: 0.4393 - val_loss: 2.5035 - val_accuracy: 0.4680\n",
      "Epoch 27/100\n",
      "1500/1500 [==============================] - 2s 1ms/sample - loss: 2.0644 - accuracy: 0.4573 - val_loss: 3.3184 - val_accuracy: 0.4987\n",
      "Epoch 28/100\n",
      "1500/1500 [==============================] - 2s 1ms/sample - loss: 2.4314 - accuracy: 0.4680 - val_loss: 2.8496 - val_accuracy: 0.4813\n",
      "Epoch 29/100\n",
      "1500/1500 [==============================] - 2s 1ms/sample - loss: 2.0318 - accuracy: 0.4367 - val_loss: 2.4751 - val_accuracy: 0.4720\n",
      "Epoch 30/100\n",
      "1500/1500 [==============================] - 2s 2ms/sample - loss: 1.9910 - accuracy: 0.4493 - val_loss: 3.2511 - val_accuracy: 0.4813\n",
      "Epoch 31/100\n",
      "1500/1500 [==============================] - 2s 1ms/sample - loss: 2.0785 - accuracy: 0.4407 - val_loss: 2.8935 - val_accuracy: 0.4907\n",
      "Epoch 32/100\n",
      "1500/1500 [==============================] - 2s 1ms/sample - loss: 1.8021 - accuracy: 0.4313 - val_loss: 2.3145 - val_accuracy: 0.4893\n",
      "Epoch 33/100\n",
      "1500/1500 [==============================] - 2s 1ms/sample - loss: 2.3085 - accuracy: 0.4473 - val_loss: 2.6042 - val_accuracy: 0.5040\n",
      "Epoch 34/100\n",
      "1500/1500 [==============================] - 3s 2ms/sample - loss: 1.6042 - accuracy: 0.4600 - val_loss: 2.4717 - val_accuracy: 0.5067\n",
      "Epoch 35/100\n",
      "1500/1500 [==============================] - 2s 2ms/sample - loss: 1.9968 - accuracy: 0.4620 - val_loss: 2.5866 - val_accuracy: 0.4907\n",
      "Epoch 36/100\n",
      "1500/1500 [==============================] - 2s 1ms/sample - loss: 1.7108 - accuracy: 0.4500 - val_loss: 2.8228 - val_accuracy: 0.5040\n",
      "Epoch 37/100\n",
      "1500/1500 [==============================] - 2s 1ms/sample - loss: 1.9194 - accuracy: 0.4500 - val_loss: 2.9907 - val_accuracy: 0.4853\n",
      "Epoch 38/100\n",
      "1500/1500 [==============================] - 2s 1ms/sample - loss: 1.7596 - accuracy: 0.4613 - val_loss: 2.8558 - val_accuracy: 0.4853\n",
      "Epoch 39/100\n",
      "1500/1500 [==============================] - 2s 1ms/sample - loss: 1.9634 - accuracy: 0.4533 - val_loss: 2.7066 - val_accuracy: 0.4893\n",
      "Epoch 40/100\n",
      "1500/1500 [==============================] - 2s 1ms/sample - loss: 1.6686 - accuracy: 0.4673 - val_loss: 2.7010 - val_accuracy: 0.4867\n",
      "Epoch 41/100\n",
      "1500/1500 [==============================] - 2s 1ms/sample - loss: 1.8036 - accuracy: 0.4653 - val_loss: 2.6445 - val_accuracy: 0.4960\n",
      "Epoch 42/100\n",
      "1500/1500 [==============================] - 2s 1ms/sample - loss: 2.1455 - accuracy: 0.4753 - val_loss: 3.6451 - val_accuracy: 0.4893\n",
      "Epoch 43/100\n",
      "1500/1500 [==============================] - 2s 1ms/sample - loss: 1.9576 - accuracy: 0.4793 - val_loss: 2.2164 - val_accuracy: 0.4813\n",
      "Epoch 44/100\n",
      "1500/1500 [==============================] - 2s 1ms/sample - loss: 1.7174 - accuracy: 0.4627 - val_loss: 3.0991 - val_accuracy: 0.5093\n",
      "Epoch 45/100\n",
      "1500/1500 [==============================] - 2s 1ms/sample - loss: 1.8848 - accuracy: 0.4520 - val_loss: 2.3954 - val_accuracy: 0.4853\n",
      "Epoch 46/100\n",
      "1500/1500 [==============================] - 2s 1ms/sample - loss: 1.7242 - accuracy: 0.4827 - val_loss: 3.1024 - val_accuracy: 0.5240\n",
      "Epoch 47/100\n",
      "1500/1500 [==============================] - 2s 1ms/sample - loss: 1.8998 - accuracy: 0.4560 - val_loss: 3.1580 - val_accuracy: 0.5027\n",
      "Epoch 48/100\n",
      "1500/1500 [==============================] - 2s 1ms/sample - loss: 1.6754 - accuracy: 0.4673 - val_loss: 2.7371 - val_accuracy: 0.5173\n",
      "Epoch 49/100\n",
      "1500/1500 [==============================] - 2s 1ms/sample - loss: 1.5993 - accuracy: 0.4927 - val_loss: 2.8623 - val_accuracy: 0.5453\n",
      "Epoch 50/100\n",
      "1500/1500 [==============================] - 2s 1ms/sample - loss: 1.9449 - accuracy: 0.4967 - val_loss: 5.3086 - val_accuracy: 0.5533\n"
     ]
    },
    {
     "name": "stdout",
     "output_type": "stream",
     "text": [
      "Epoch 51/100\n",
      "1500/1500 [==============================] - 2s 1ms/sample - loss: 1.8825 - accuracy: 0.4933 - val_loss: 2.8584 - val_accuracy: 0.5147\n",
      "Epoch 52/100\n",
      "1500/1500 [==============================] - 2s 1ms/sample - loss: 1.8720 - accuracy: 0.4773 - val_loss: 3.4174 - val_accuracy: 0.5253\n",
      "Epoch 53/100\n",
      "1500/1500 [==============================] - 2s 2ms/sample - loss: 1.9155 - accuracy: 0.4887 - val_loss: 3.8755 - val_accuracy: 0.5200\n",
      "Epoch 54/100\n",
      "1500/1500 [==============================] - 2s 1ms/sample - loss: 1.6697 - accuracy: 0.4933 - val_loss: 4.3175 - val_accuracy: 0.5347\n",
      "Epoch 55/100\n",
      "1500/1500 [==============================] - 2s 1ms/sample - loss: 2.2043 - accuracy: 0.4840 - val_loss: 5.9545 - val_accuracy: 0.5253\n",
      "Epoch 56/100\n",
      "1500/1500 [==============================] - 3s 2ms/sample - loss: 1.6157 - accuracy: 0.4687 - val_loss: 3.3248 - val_accuracy: 0.5213\n",
      "Epoch 57/100\n",
      "1500/1500 [==============================] - 2s 1ms/sample - loss: 1.7187 - accuracy: 0.4827 - val_loss: 3.4784 - val_accuracy: 0.5253\n",
      "Epoch 58/100\n",
      "1500/1500 [==============================] - 2s 1ms/sample - loss: 1.6064 - accuracy: 0.4753 - val_loss: 3.1247 - val_accuracy: 0.5227\n",
      "Epoch 59/100\n",
      "1500/1500 [==============================] - 2s 2ms/sample - loss: 1.5846 - accuracy: 0.4900 - val_loss: 4.7424 - val_accuracy: 0.5333\n",
      "Epoch 60/100\n",
      "1500/1500 [==============================] - 2s 1ms/sample - loss: 1.7574 - accuracy: 0.4800 - val_loss: 3.6709 - val_accuracy: 0.5280\n",
      "Epoch 61/100\n",
      "1500/1500 [==============================] - 2s 2ms/sample - loss: 1.5778 - accuracy: 0.4593 - val_loss: 3.2866 - val_accuracy: 0.5133\n",
      "Epoch 62/100\n",
      "1500/1500 [==============================] - 3s 2ms/sample - loss: 1.6742 - accuracy: 0.4887 - val_loss: 3.3373 - val_accuracy: 0.5400\n",
      "Epoch 63/100\n",
      "1500/1500 [==============================] - 3s 2ms/sample - loss: 1.8775 - accuracy: 0.4960 - val_loss: 2.6573 - val_accuracy: 0.5333\n",
      "Epoch 64/100\n",
      "1500/1500 [==============================] - 3s 2ms/sample - loss: 1.5853 - accuracy: 0.5007 - val_loss: 3.3185 - val_accuracy: 0.5413\n",
      "Epoch 65/100\n",
      "1500/1500 [==============================] - 2s 2ms/sample - loss: 1.6128 - accuracy: 0.4873 - val_loss: 2.8413 - val_accuracy: 0.5493\n",
      "Epoch 66/100\n",
      "1500/1500 [==============================] - 3s 2ms/sample - loss: 1.6392 - accuracy: 0.4873 - val_loss: 3.5805 - val_accuracy: 0.5200\n",
      "Epoch 67/100\n",
      "1500/1500 [==============================] - 3s 2ms/sample - loss: 1.7239 - accuracy: 0.4947 - val_loss: 4.0474 - val_accuracy: 0.5400\n",
      "Epoch 68/100\n",
      "1500/1500 [==============================] - 3s 2ms/sample - loss: 1.6791 - accuracy: 0.4833 - val_loss: 3.2158 - val_accuracy: 0.5333\n",
      "Epoch 69/100\n",
      "1500/1500 [==============================] - 3s 2ms/sample - loss: 1.5527 - accuracy: 0.4880 - val_loss: 3.2117 - val_accuracy: 0.5187\n",
      "Epoch 70/100\n",
      "1500/1500 [==============================] - 2s 2ms/sample - loss: 1.5967 - accuracy: 0.4733 - val_loss: 3.5815 - val_accuracy: 0.5320\n",
      "Epoch 71/100\n",
      "1500/1500 [==============================] - 2s 2ms/sample - loss: 1.5980 - accuracy: 0.4940 - val_loss: 3.4638 - val_accuracy: 0.5333\n",
      "Epoch 72/100\n",
      "1500/1500 [==============================] - 2s 2ms/sample - loss: 1.6876 - accuracy: 0.4933 - val_loss: 3.3112 - val_accuracy: 0.5360\n",
      "Epoch 73/100\n",
      "1500/1500 [==============================] - 2s 2ms/sample - loss: 1.5090 - accuracy: 0.4800 - val_loss: 3.1956 - val_accuracy: 0.5280\n",
      "Epoch 74/100\n",
      "1500/1500 [==============================] - 2s 2ms/sample - loss: 1.7213 - accuracy: 0.4880 - val_loss: 3.0373 - val_accuracy: 0.5213\n",
      "Epoch 75/100\n",
      "1500/1500 [==============================] - 2s 2ms/sample - loss: 1.4904 - accuracy: 0.4927 - val_loss: 3.1467 - val_accuracy: 0.5213\n",
      "Epoch 76/100\n",
      "1500/1500 [==============================] - 3s 2ms/sample - loss: 1.5331 - accuracy: 0.4673 - val_loss: 3.0058 - val_accuracy: 0.5160\n",
      "Epoch 77/100\n",
      "1500/1500 [==============================] - 2s 2ms/sample - loss: 1.6086 - accuracy: 0.4733 - val_loss: 2.7910 - val_accuracy: 0.5133\n",
      "Epoch 78/100\n",
      "1500/1500 [==============================] - 2s 2ms/sample - loss: 1.4279 - accuracy: 0.4927 - val_loss: 3.0475 - val_accuracy: 0.5173\n",
      "Epoch 79/100\n",
      "1500/1500 [==============================] - 2s 2ms/sample - loss: 1.5031 - accuracy: 0.4853 - val_loss: 3.0609 - val_accuracy: 0.5160\n",
      "Epoch 80/100\n",
      "1500/1500 [==============================] - 2s 2ms/sample - loss: 1.5077 - accuracy: 0.4747 - val_loss: 3.3875 - val_accuracy: 0.5467\n",
      "Epoch 81/100\n",
      "1500/1500 [==============================] - 2s 2ms/sample - loss: 1.5183 - accuracy: 0.4907 - val_loss: 3.7605 - val_accuracy: 0.5293\n",
      "Epoch 82/100\n",
      "1500/1500 [==============================] - 2s 2ms/sample - loss: 1.7727 - accuracy: 0.4980 - val_loss: 3.2708 - val_accuracy: 0.5280\n",
      "Epoch 83/100\n",
      "1500/1500 [==============================] - 2s 2ms/sample - loss: 1.6453 - accuracy: 0.4913 - val_loss: 2.6644 - val_accuracy: 0.5200\n",
      "Epoch 84/100\n",
      "1500/1500 [==============================] - 3s 2ms/sample - loss: 1.5896 - accuracy: 0.4853 - val_loss: 2.5627 - val_accuracy: 0.5387\n",
      "Epoch 85/100\n",
      "1500/1500 [==============================] - 3s 2ms/sample - loss: 1.5045 - accuracy: 0.5007 - val_loss: 2.5503 - val_accuracy: 0.5387\n",
      "Epoch 86/100\n",
      "1500/1500 [==============================] - 3s 2ms/sample - loss: 1.4844 - accuracy: 0.5007 - val_loss: 2.9339 - val_accuracy: 0.5400\n",
      "Epoch 87/100\n",
      "1500/1500 [==============================] - 2s 2ms/sample - loss: 1.5011 - accuracy: 0.5000 - val_loss: 4.7374 - val_accuracy: 0.5547\n",
      "Epoch 88/100\n",
      "1500/1500 [==============================] - 3s 2ms/sample - loss: 1.4904 - accuracy: 0.5073 - val_loss: 3.9437 - val_accuracy: 0.5520\n",
      "Epoch 89/100\n",
      "1500/1500 [==============================] - 2s 2ms/sample - loss: 1.4946 - accuracy: 0.5020 - val_loss: 2.8673 - val_accuracy: 0.5400\n",
      "Epoch 90/100\n",
      "1500/1500 [==============================] - 2s 2ms/sample - loss: 1.4168 - accuracy: 0.4953 - val_loss: 2.6406 - val_accuracy: 0.5333\n",
      "Epoch 91/100\n",
      "1500/1500 [==============================] - 3s 2ms/sample - loss: 1.4320 - accuracy: 0.5020 - val_loss: 3.6985 - val_accuracy: 0.5400\n",
      "Epoch 92/100\n",
      "1500/1500 [==============================] - 2s 2ms/sample - loss: 1.4753 - accuracy: 0.4947 - val_loss: 2.9975 - val_accuracy: 0.5333\n",
      "Epoch 93/100\n",
      "1500/1500 [==============================] - 2s 2ms/sample - loss: 1.5460 - accuracy: 0.4887 - val_loss: 3.2540 - val_accuracy: 0.5293\n",
      "Epoch 94/100\n",
      "1500/1500 [==============================] - 3s 2ms/sample - loss: 1.6114 - accuracy: 0.4947 - val_loss: 3.5602 - val_accuracy: 0.5427\n",
      "Epoch 95/100\n",
      "1500/1500 [==============================] - 3s 2ms/sample - loss: 1.5538 - accuracy: 0.4967 - val_loss: 3.5262 - val_accuracy: 0.5387\n",
      "Epoch 96/100\n",
      "1500/1500 [==============================] - 2s 2ms/sample - loss: 1.4487 - accuracy: 0.4953 - val_loss: 3.8843 - val_accuracy: 0.5400\n",
      "Epoch 97/100\n",
      "1500/1500 [==============================] - 3s 2ms/sample - loss: 1.4901 - accuracy: 0.5000 - val_loss: 3.6041 - val_accuracy: 0.5413\n",
      "Epoch 98/100\n",
      "1500/1500 [==============================] - 3s 2ms/sample - loss: 1.4457 - accuracy: 0.4973 - val_loss: 3.5763 - val_accuracy: 0.5400\n",
      "Epoch 99/100\n",
      "1500/1500 [==============================] - 3s 2ms/sample - loss: 1.3396 - accuracy: 0.5187 - val_loss: 3.8284 - val_accuracy: 0.5440\n",
      "Epoch 100/100\n",
      "1500/1500 [==============================] - 2s 2ms/sample - loss: 1.4097 - accuracy: 0.5060 - val_loss: 3.7319 - val_accuracy: 0.5453\n"
     ]
    }
   ],
   "source": [
    "train_features = np.reshape(train_features, (1500, 4*4*512))\n",
    "validation_features = np.reshape(validation_features, (750, 4*4*512))\n",
    "test_features = np.reshape(test_features, (900, 4*4*512))\n",
    "\n",
    "model_3 = tf.keras.models.Sequential([\n",
    "    tf.keras.layers.Dense(256, activation = 'relu', input_dim = 4*4*512),\n",
    "    tf.keras.layers.Dropout(0.5),\n",
    "    tf.keras.layers.Dense(15, activation = 'softmax')\n",
    "])\n",
    "\n",
    "model_3.summary()\n",
    "\n",
    "model_3.compile(optimizer = tf.keras.optimizers.RMSprop(lr = 0.01),\n",
    "               loss = 'categorical_crossentropy',\n",
    "               metrics = ['accuracy'])\n",
    "\n",
    "history = model_3.fit(train_features, train_labels, \n",
    "                     epochs = 100, \n",
    "                     batch_size = 20,\n",
    "                     validation_data = (validation_features, validation_labels))\n"
   ]
  },
  {
   "cell_type": "code",
   "execution_count": 214,
   "metadata": {},
   "outputs": [
    {
     "name": "stdout",
     "output_type": "stream",
     "text": [
      "Model: \"sequential_18\"\n",
      "_________________________________________________________________\n",
      "Layer (type)                 Output Shape              Param #   \n",
      "=================================================================\n",
      "dense_36 (Dense)             (None, 256)               2097408   \n",
      "_________________________________________________________________\n",
      "dropout_3 (Dropout)          (None, 256)               0         \n",
      "_________________________________________________________________\n",
      "dense_37 (Dense)             (None, 15)                3855      \n",
      "=================================================================\n",
      "Total params: 2,101,263\n",
      "Trainable params: 2,101,263\n",
      "Non-trainable params: 0\n",
      "_________________________________________________________________\n"
     ]
    }
   ],
   "source": [
    "model_3.summary()"
   ]
  },
  {
   "cell_type": "code",
   "execution_count": 210,
   "metadata": {},
   "outputs": [
    {
     "data": {
      "image/png": "[encoded data removed]",
      "text/plain": [
       "<Figure size 432x288 with 1 Axes>"
      ]
     },
     "metadata": {
      "needs_background": "light"
     },
     "output_type": "display_data"
    }
   ],
   "source": [
    "# train and validation accuracy by epoch\n",
    "\n",
    "acc = history.history['accuracy']\n",
    "val_acc = history.history['val_accuracy']\n",
    "epochs = range(1, len(acc)+1)\n",
    "\n",
    "plt.plot(epochs, acc, 'b', label = 'Training', color = 'green')\n",
    "plt.plot(epochs, val_acc, 'b', label = 'Validation')\n",
    "plt.title('Training and validation accuracy\\n')\n",
    "plt.legend(loc = 4)\n",
    "plt.savefig(\"Train_and_val_acc_transfer_learning_VGG19.jpg\")"
   ]
  },
  {
   "cell_type": "code",
   "execution_count": 211,
   "metadata": {},
   "outputs": [
    {
     "data": {
      "image/png": "[encoded data removed]",
      "text/plain": [
       "<Figure size 432x288 with 1 Axes>"
      ]
     },
     "metadata": {
      "needs_background": "light"
     },
     "output_type": "display_data"
    }
   ],
   "source": [
    "# train and validation loss by epoch\n",
    "\n",
    "loss = history.history['loss']\n",
    "val_loss = history.history['val_loss']\n",
    "epochs = range(1, len(loss)+1)\n",
    "\n",
    "plt.plot(epochs, loss, 'b', label = 'Training loss', color = 'green')\n",
    "plt.plot(epochs, val_loss, 'b', label = 'Validation loss')\n",
    "plt.title('Training and Validation Loss\\n')\n",
    "plt.legend()\n",
    "plt.savefig(\"Train_and_val_loss_transfer_learning_VGG19.jpg\")"
   ]
  },
  {
   "cell_type": "code",
   "execution_count": null,
   "metadata": {},
   "outputs": [],
   "source": [
    "test_acc = "
   ]
  }
 ],
 "metadata": {
  "kernelspec": {
   "display_name": "Python 3",
   "language": "python",
   "name": "python3"
  },
  "language_info": {
   "codemirror_mode": {
    "name": "ipython",
    "version": 3
   },
   "file_extension": ".py",
   "mimetype": "text/x-python",
   "name": "python",
   "nbconvert_exporter": "python",
   "pygments_lexer": "ipython3",
   "version": "3.7.3"
  }
 },
 "nbformat": 4,
 "nbformat_minor": 4
}

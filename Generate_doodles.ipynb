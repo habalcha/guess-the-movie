{
 "cells": [
  {
   "cell_type": "code",
   "execution_count": 62,
   "metadata": {},
   "outputs": [],
   "source": [
    "import tensorflow as tf\n",
    "import sklearn as sk\n",
    "import pandas as pd\n",
    "import numpy as np\n",
    "import matplotlib.pyplot as plt\n",
    "import shutil\n",
    "import ast\n",
    "import json \n",
    "import ndjson\n",
    "import os\n",
    "import random"
   ]
  },
  {
   "cell_type": "code",
   "execution_count": 63,
   "metadata": {},
   "outputs": [
    {
     "name": "stdout",
     "output_type": "stream",
     "text": [
      "Total categories=  15\n"
     ]
    }
   ],
   "source": [
    "def load_movies(name):\n",
    "    df = pd.read_csv(name)\n",
    "    df['keywords'] = df['keywords'].apply(json.loads)\n",
    "    return df\n",
    "\n",
    "\n",
    "def edit_names(keywords):\n",
    "    return','.join([x['name'] for x in keywords])\n",
    "\n",
    "\n",
    "def get_category_from_filename(filename):\n",
    "    i = filename.rfind('_')\n",
    "    filename = filename[i+1:-7]\n",
    "    return filename\n",
    "\n",
    "\n",
    "movies = load_movies('MoviesList.csv')\n",
    "tmdb_movies = movies.copy()\n",
    "tmdb_movies['keywords'] = tmdb_movies['keywords'].apply(edit_names)\n",
    "\n",
    "\n",
    "df_categories = pd.read_csv('Categories_List.csv')\n",
    "categories = df_categories['Categories']\n",
    "categories_set = set()\n",
    "categories_new_set = set()\n",
    "\n",
    "\n",
    "for obj in tmdb_movies['keywords']:\n",
    "    list = obj.split(',')\n",
    "    categories_set.update(list)\n",
    "    \n",
    "    \n",
    "for value in categories_set:\n",
    "    if categories.eq(value).any():  # exact match string\n",
    "#         print(value)\n",
    "        categories_new_set.add(value)\n",
    "        \n",
    "category_count = len(categories_new_set)\n",
    "print(\"Total categories= \", len(categories_new_set))\n",
    "\n",
    "\n",
    "import csv\n",
    "\n",
    "movies_df = load_movies('MoviesList.csv') #dataframe\n",
    "categories_list = categories.tolist()\n",
    "\n",
    "with open('MoviesListEdited.csv', 'w') as csvfile:\n",
    "    filewriter = csv.writer(csvfile, delimiter=',')\n",
    "    filewriter.writerow(['Name', 'Keywords'])\n",
    "    for index, row in movies_df.iterrows():\n",
    "        name = row[\"original_title\"]\n",
    "        keywords_list = [ sub['name'] for sub in row[\"keywords\"] ] \n",
    "        new_list = set(keywords_list) & set(categories_list)\n",
    "        filewriter.writerow([name, new_list])\n",
    "        \n",
    "        \n",
    "doodle_dict = dict()\n",
    "doodles_df = pd.DataFrame()\n",
    "path = './Doodle_ndjson'"
   ]
  },
  {
   "cell_type": "code",
   "execution_count": 64,
   "metadata": {},
   "outputs": [
    {
     "name": "stdout",
     "output_type": "stream",
     "text": [
      "Reading file cruise ship.......\n",
      "Reading file dragon.......\n",
      "Reading file giraffe.......\n",
      "Reading file hammer.......\n",
      "Reading file lion.......\n",
      "Reading file monkey.......\n",
      "Reading file ocean.......\n",
      "Reading file panda.......\n",
      "Reading file penguin.......\n",
      "Reading file shark.......\n",
      "Reading file snake.......\n",
      "Reading file spider.......\n",
      "Reading file tiger.......\n",
      "Reading file whale.......\n",
      "Reading file zebra.......\n",
      "Done!\n"
     ]
    }
   ],
   "source": [
    "for file in os.listdir(path):\n",
    "    data_new = []\n",
    "    data = []\n",
    "\n",
    "    filename = get_category_from_filename(file)\n",
    "    print(\"Reading file \"+filename+\".......\")\n",
    "\n",
    "    #going through all the files in Doodle_ndjson directory\n",
    "    with open(path+\"/\"+file) as f:\n",
    "        data = ndjson.load(f)  # loads an ndjson as list of doodle data # data[listitem] is <class 'dict'>\n",
    "        for listitem in range(len(data)):\n",
    "            # ignoring the items if 'recognized' is False\n",
    "            if data[listitem]['recognized'] != False:\n",
    "                data_new.append(data[listitem].get('drawing'))\n",
    "\n",
    "    # Randomly selecting 100 items from a doodle data list\n",
    "    data = random.sample(data_new, 25)\n",
    "    # adding each data list to dictionary <key = category_name> <value = data>\n",
    "    doodle_dict[filename] = data\n",
    "\n",
    "print('Done!')"
   ]
  },
  {
   "cell_type": "code",
   "execution_count": 65,
   "metadata": {},
   "outputs": [],
   "source": [
    "doodle_df = pd.DataFrame(doodle_dict)"
   ]
  },
  {
   "cell_type": "code",
   "execution_count": 66,
   "metadata": {},
   "outputs": [
    {
     "data": {
      "text/html": [
       "<div>\n",
       "<style scoped>\n",
       "    .dataframe tbody tr th:only-of-type {\n",
       "        vertical-align: middle;\n",
       "    }\n",
       "\n",
       "    .dataframe tbody tr th {\n",
       "        vertical-align: top;\n",
       "    }\n",
       "\n",
       "    .dataframe thead th {\n",
       "        text-align: right;\n",
       "    }\n",
       "</style>\n",
       "<table border=\"1\" class=\"dataframe\">\n",
       "  <thead>\n",
       "    <tr style=\"text-align: right;\">\n",
       "      <th></th>\n",
       "      <th>cruise ship</th>\n",
       "      <th>dragon</th>\n",
       "      <th>giraffe</th>\n",
       "      <th>hammer</th>\n",
       "      <th>lion</th>\n",
       "      <th>monkey</th>\n",
       "      <th>ocean</th>\n",
       "      <th>panda</th>\n",
       "      <th>penguin</th>\n",
       "      <th>shark</th>\n",
       "      <th>snake</th>\n",
       "      <th>spider</th>\n",
       "      <th>tiger</th>\n",
       "      <th>whale</th>\n",
       "      <th>zebra</th>\n",
       "    </tr>\n",
       "  </thead>\n",
       "  <tbody>\n",
       "    <tr>\n",
       "      <th>0</th>\n",
       "      <td>[[[215, 169, 70, 3, 0, 5, 38, 82, 112, 156, 21...</td>\n",
       "      <td>[[[38, 15, 1, 8, 20, 46, 33, 16, 19, 30, 43, 5...</td>\n",
       "      <td>[[[86, 79, 61, 33, 1, 32, 49], [74, 72, 36, 0,...</td>\n",
       "      <td>[[[53, 53, 47, 47, 52, 61, 87, 83, 83, 75, 75,...</td>\n",
       "      <td>[[[111, 100, 86, 83, 84, 108, 151], [96, 109, ...</td>\n",
       "      <td>[[[97, 98, 105, 134, 148, 162, 173], [47, 38, ...</td>\n",
       "      <td>[[[0, 40, 77, 93, 117, 132, 189, 202, 223, 247...</td>\n",
       "      <td>[[[79, 58, 49, 30, 22, 14, 15, 18, 32, 53, 78,...</td>\n",
       "      <td>[[[141, 177, 147, 133, 104, 94, 81, 71, 33, 5,...</td>\n",
       "      <td>[[[150, 147, 106, 74, 27, 4, 0, 10, 49, 103, 1...</td>\n",
       "      <td>[[[55, 35, 8, 2, 7, 60, 91, 100, 104, 107, 106...</td>\n",
       "      <td>[[[144, 129, 121, 115, 117, 123, 138, 158, 171...</td>\n",
       "      <td>[[[2, 2, 14, 88, 103, 134, 189, 203, 215], [60...</td>\n",
       "      <td>[[[115, 71, 40, 11, 4, 0, 4, 21, 50, 101, 129,...</td>\n",
       "      <td>[[[44, 33, 21, 15, 17, 0, 1, 20, 47, 50, 50, 3...</td>\n",
       "    </tr>\n",
       "  </tbody>\n",
       "</table>\n",
       "</div>"
      ],
      "text/plain": [
       "                                         cruise ship  \\\n",
       "0  [[[215, 169, 70, 3, 0, 5, 38, 82, 112, 156, 21...   \n",
       "\n",
       "                                              dragon  \\\n",
       "0  [[[38, 15, 1, 8, 20, 46, 33, 16, 19, 30, 43, 5...   \n",
       "\n",
       "                                             giraffe  \\\n",
       "0  [[[86, 79, 61, 33, 1, 32, 49], [74, 72, 36, 0,...   \n",
       "\n",
       "                                              hammer  \\\n",
       "0  [[[53, 53, 47, 47, 52, 61, 87, 83, 83, 75, 75,...   \n",
       "\n",
       "                                                lion  \\\n",
       "0  [[[111, 100, 86, 83, 84, 108, 151], [96, 109, ...   \n",
       "\n",
       "                                              monkey  \\\n",
       "0  [[[97, 98, 105, 134, 148, 162, 173], [47, 38, ...   \n",
       "\n",
       "                                               ocean  \\\n",
       "0  [[[0, 40, 77, 93, 117, 132, 189, 202, 223, 247...   \n",
       "\n",
       "                                               panda  \\\n",
       "0  [[[79, 58, 49, 30, 22, 14, 15, 18, 32, 53, 78,...   \n",
       "\n",
       "                                             penguin  \\\n",
       "0  [[[141, 177, 147, 133, 104, 94, 81, 71, 33, 5,...   \n",
       "\n",
       "                                               shark  \\\n",
       "0  [[[150, 147, 106, 74, 27, 4, 0, 10, 49, 103, 1...   \n",
       "\n",
       "                                               snake  \\\n",
       "0  [[[55, 35, 8, 2, 7, 60, 91, 100, 104, 107, 106...   \n",
       "\n",
       "                                              spider  \\\n",
       "0  [[[144, 129, 121, 115, 117, 123, 138, 158, 171...   \n",
       "\n",
       "                                               tiger  \\\n",
       "0  [[[2, 2, 14, 88, 103, 134, 189, 203, 215], [60...   \n",
       "\n",
       "                                               whale  \\\n",
       "0  [[[115, 71, 40, 11, 4, 0, 4, 21, 50, 101, 129,...   \n",
       "\n",
       "                                               zebra  \n",
       "0  [[[44, 33, 21, 15, 17, 0, 1, 20, 47, 50, 50, 3...  "
      ]
     },
     "execution_count": 66,
     "metadata": {},
     "output_type": "execute_result"
    }
   ],
   "source": [
    "doodle_df.head(1)"
   ]
  },
  {
   "cell_type": "code",
   "execution_count": 67,
   "metadata": {},
   "outputs": [],
   "source": [
    "doodle_df.columns = [\"cruise_ship\", \"dragon\", \"giraffe\", \"hammer\", \"lion\",\n",
    "                     \"monkey\", \"ocean\", \"panda\", \"penguin\", \"shark\", \n",
    "                     \"snake\", \"spider\", \"tiger\", \"whale\", \"zebra\"]"
   ]
  },
  {
   "cell_type": "code",
   "execution_count": 68,
   "metadata": {},
   "outputs": [
    {
     "data": {
      "text/plain": [
       "(25, 15)"
      ]
     },
     "execution_count": 68,
     "metadata": {},
     "output_type": "execute_result"
    }
   ],
   "source": [
    "pic = doodle_df.loc[0][0]\n",
    "doodle_df.shape"
   ]
  },
  {
   "cell_type": "code",
   "execution_count": 69,
   "metadata": {},
   "outputs": [],
   "source": [
    "def delete_files(files):\n",
    "    file_dir = \"C:/Users/Hermi/Desktop/Machine_Learning/guessTheMovie-master/guessTheMovie-master/Generated_Doodles/te/\"\n",
    "    \n",
    "    folder = file_dir \n",
    "#     + files\n",
    "    \n",
    "    for filename in os.listdir(folder):\n",
    "        file_path = os.path.join(folder, filename)\n",
    "        \n",
    "        try:\n",
    "            if os.path.isfile(file_path) or os.path.islink(file_path):\n",
    "                os.unlink(file_path)\n",
    "            elif os.path.isdir(file_path):\n",
    "                shutil.rmtree(file_path)\n",
    "        except Exception as e:\n",
    "            print('Failed to delete %s. Reason: %s' % (file_path, e))"
   ]
  },
  {
   "cell_type": "code",
   "execution_count": 71,
   "metadata": {},
   "outputs": [],
   "source": [
    "def delete_df_generated_pictures_in_directory(df):\n",
    "    columns = df.shape[1]\n",
    "    all_columns = df.columns\n",
    "\n",
    "    for j in range(columns):\n",
    "        column_name = all_columns[j]\n",
    "        delete_files(column_name)\n",
    "    "
   ]
  },
  {
   "cell_type": "code",
   "execution_count": 72,
   "metadata": {},
   "outputs": [],
   "source": [
    "def draw_everything(df):\n",
    "    \n",
    "    # delete_df_generated_pictures_in_directory(df)\n",
    "    \n",
    "    rows = df.shape[0]\n",
    "    columns = df.shape[1]\n",
    "\n",
    "    all_columns = df.columns\n",
    "    \n",
    "    for j in range(columns):\n",
    "        \n",
    "        column_name = all_columns[j]\n",
    "        \n",
    "        for i in range(rows):\n",
    "            \n",
    "            pic = df.iloc[i][j]\n",
    "            \n",
    "            plt.figure(figsize = (23, 23))\n",
    "            \n",
    "            file_dir = \"C:/Users/Hermi/Desktop/Machine_Learning/guessTheMovie-master/guessTheMovie-master/Generated_Doodles/test/\"\n",
    "\n",
    "            for k in range(len(pic)):\n",
    "\n",
    "                y = np.array(pic[k][1])*-1\n",
    "\n",
    "                plt.plot(pic[k][0], y, linewidth = 10, color = \"blue\")\n",
    "                plt.axis('off')\n",
    "                \n",
    "            file_name = file_dir + column_name + '/' + column_name + '_' + str(i + 35) + \".jpg\"\n",
    "            plt.savefig(file_name)\n",
    "            plt.close()"
   ]
  },
  {
   "cell_type": "code",
   "execution_count": 55,
   "metadata": {},
   "outputs": [],
   "source": [
    "# delete_df_generated_pictures_in_directory(doodle_df)"
   ]
  },
  {
   "cell_type": "code",
   "execution_count": 73,
   "metadata": {},
   "outputs": [],
   "source": [
    "draw_everything(doodle_df)"
   ]
  },
  {
   "cell_type": "code",
   "execution_count": 24,
   "metadata": {},
   "outputs": [],
   "source": [
    "fname = \"Generated_Doodles/validation/cruise_ship/cruise_ship_33.jpg\"\n",
    "img = plt.imread(fname)"
   ]
  },
  {
   "cell_type": "code",
   "execution_count": 25,
   "metadata": {},
   "outputs": [
    {
     "data": {
      "text/plain": [
       "<matplotlib.image.AxesImage at 0x2018fe92358>"
      ]
     },
     "execution_count": 25,
     "metadata": {},
     "output_type": "execute_result"
    },
    {
     "data": {
      "image/png": "[encoded data removed]",
      "text/plain": [
       "<Figure size 432x288 with 1 Axes>"
      ]
     },
     "metadata": {
      "needs_background": "light"
     },
     "output_type": "display_data"
    }
   ],
   "source": [
    "plt.imshow(img)"
   ]
  }
 ],
 "metadata": {
  "kernelspec": {
   "display_name": "Python 3",
   "language": "python",
   "name": "python3"
  },
  "language_info": {
   "codemirror_mode": {
    "name": "ipython",
    "version": 3
   },
   "file_extension": ".py",
   "mimetype": "text/x-python",
   "name": "python",
   "nbconvert_exporter": "python",
   "pygments_lexer": "ipython3",
   "version": "3.7.3"
  }
 },
 "nbformat": 4,
 "nbformat_minor": 4
}

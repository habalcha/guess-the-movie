{
 "cells": [
  {
   "cell_type": "code",
   "execution_count": 106,
   "metadata": {},
   "outputs": [],
   "source": [
    "import tensorflow as tf\n",
    "import sklearn as sk\n",
    "import pandas as pd\n",
    "import numpy as np\n",
    "import matplotlib.pyplot as plt\n",
    "import ast\n",
    "import json \n",
    "import ndjson\n",
    "import os\n",
    "import random"
   ]
  },
  {
   "cell_type": "code",
   "execution_count": 169,
   "metadata": {},
   "outputs": [
    {
     "name": "stdout",
     "output_type": "stream",
     "text": [
      "Categories <class 'pandas.core.series.Series'>\n",
      "cruise ship\n",
      "penguin\n",
      "spider\n",
      "hammer\n",
      "lion\n",
      "whale\n",
      "shark\n",
      "monkey\n",
      "ocean\n",
      "snake\n",
      "dragon\n",
      "panda\n",
      "tiger\n",
      "zebra\n",
      "giraffe\n",
      "Total categories=  15\n"
     ]
    }
   ],
   "source": [
    "def load_movies(name):\n",
    "    df = pd.read_csv(name)\n",
    "    df['keywords'] = df['keywords'].apply(json.loads)\n",
    "    return df\n",
    "\n",
    "def edit_names(keywords):\n",
    "    return','.join([x['name'] for x in keywords]) \n",
    "\n",
    "#gets the category name from the ndjson file name\n",
    "def get_category_from_filename(filename):\n",
    "    i = filename.rfind('_')\n",
    "    filename = filename[i+1:-7]\n",
    "    return filename\n",
    "\n",
    "df_categories = pd.read_csv('Categories_List.csv')\n",
    "#print(df_categories)\n",
    "\n",
    "movies = load_movies('MoviesList.csv')\n",
    "tmdb_movies = movies.copy()\n",
    "tmdb_movies['keywords'] = tmdb_movies['keywords'].apply(edit_names)\n",
    "\n",
    "df_categories = pd.read_csv('Categories_List.csv')# file with 345 category names\n",
    "movies = load_movies('MoviesList.csv')\n",
    "tmdb_movies = movies.copy()\n",
    "tmdb_movies['keywords'] = tmdb_movies['keywords'].apply(edit_names)\n",
    "\n",
    "categories = df_categories['Categories']\n",
    "print(\"Categories\", type(categories))\n",
    "categories_set = set()\n",
    "categories_new_set = set()\n",
    "\n",
    "for obj in tmdb_movies['keywords']:\n",
    "    list = obj.split(',')\n",
    "    categories_set.update(list)\n",
    "\n",
    "# prints the matching categories: Download the files as required\n",
    "for value in categories_set:\n",
    "    # if categories.str.contains(value).any(): ->partial match\n",
    "    if categories.eq(value).any():  # exact match string\n",
    "        print(value)\n",
    "        categories_new_set.add(value)\n",
    "\n",
    "category_count = len(categories_new_set)\n",
    "print(\"Total categories= \", len(categories_new_set))"
   ]
  },
  {
   "cell_type": "code",
   "execution_count": 108,
   "metadata": {},
   "outputs": [],
   "source": [
    "import csv\n",
    "\n",
    "movies_df = load_movies('MoviesList.csv') #dataframe\n",
    "categories_list = categories.tolist()\n",
    "\n",
    "with open('MoviesListEdited.csv', 'w') as csvfile:\n",
    "    filewriter = csv.writer(csvfile, delimiter=',')\n",
    "    filewriter.writerow(['Name', 'Keywords'])\n",
    "    for index, row in movies_df.iterrows():\n",
    "        name = row[\"original_title\"]\n",
    "        keywords_list = [ sub['name'] for sub in row[\"keywords\"] ] \n",
    "        new_list = set(keywords_list) & set(categories_list)\n",
    "        filewriter.writerow([name, new_list])\n",
    "        "
   ]
  },
  {
   "cell_type": "code",
   "execution_count": 372,
   "metadata": {},
   "outputs": [
    {
     "name": "stdout",
     "output_type": "stream",
     "text": [
      "Reading file cruise ship.......\n",
      "Reading file dragon.......\n",
      "Reading file giraffe.......\n",
      "Reading file hammer.......\n",
      "Reading file lion.......\n",
      "Reading file monkey.......\n",
      "Reading file ocean.......\n",
      "Reading file panda.......\n",
      "Reading file penguin.......\n",
      "Reading file shark.......\n",
      "Reading file snake.......\n",
      "Reading file spider.......\n",
      "Reading file tiger.......\n",
      "Reading file whale.......\n",
      "Reading file zebra.......\n",
      "Done!\n"
     ]
    }
   ],
   "source": [
    "doodle_dict = dict()\n",
    "doodles_df = pd.DataFrame()\n",
    "path = './Doodle_ndjson'  # directory to store all ndjson files\n",
    "\n",
    "# reads each ndjson one by one from 'Doodle_ndjson' directory\n",
    "for file in os.listdir(path):\n",
    "    data_new = []\n",
    "    data = []\n",
    "\n",
    "    filename = get_category_from_filename(file)\n",
    "    print(\"Reading file \"+filename+\".......\")\n",
    "\n",
    "    #going through all the files in Doodle_ndjson directory\n",
    "    with open(path+\"/\"+file) as f:\n",
    "        data = ndjson.load(f)  # loads an ndjson as list of doodle data # data[listitem] is <class 'dict'>\n",
    "        for listitem in range(len(data)):\n",
    "            # ignoring the items if 'recognized' is False\n",
    "            if data[listitem]['recognized'] != False:\n",
    "                data_new.append(data[listitem].get('drawing'))\n",
    "\n",
    "    # Randomly selecting 100 items from a doodle data list\n",
    "    data = random.sample(data_new, 100)\n",
    "    # adding each data list to dictionary <key = category_name> <value = data>\n",
    "    doodle_dict[filename] = data\n",
    "\n",
    "print('Done!')\n",
    "#print(doodle_dict['shark']) #to see format of one entry in dict\n",
    "###################################\n",
    "# There is no data for ship"
   ]
  },
  {
   "cell_type": "code",
   "execution_count": 375,
   "metadata": {},
   "outputs": [
    {
     "data": {
      "text/plain": [
       "[[[61, 60, 86, 143, 217, 247, 249, 255],\n",
       "  [141, 138, 136, 138, 143, 151, 128, 103]],\n",
       " [[64, 29, 0, 9, 41, 106, 205, 254], [142, 119, 94, 89, 89, 101, 96, 105]],\n",
       " [[31, 32, 35, 52, 100, 125, 128, 130, 125],\n",
       "  [91, 64, 60, 60, 70, 71, 73, 86, 108]],\n",
       " [[132, 116, 116, 120], [104, 26, 10, 0]]]"
      ]
     },
     "execution_count": 375,
     "metadata": {},
     "output_type": "execute_result"
    }
   ],
   "source": [
    "doodle_dict_c = doodle_dict.copy()\n",
    "\n",
    "val = doodle_dict_c.get('cruise ship')\n",
    "\n",
    "# doodle_dict['cruise ship'] = val.pop(0)\n",
    "val[1]"
   ]
  },
  {
   "cell_type": "code",
   "execution_count": 371,
   "metadata": {},
   "outputs": [
    {
     "data": {
      "text/plain": [
       "100"
      ]
     },
     "execution_count": 371,
     "metadata": {},
     "output_type": "execute_result"
    }
   ],
   "source": [
    "val_m = doodle_dict_c.get('monkey')\n",
    "len(val_m)"
   ]
  },
  {
   "cell_type": "code",
   "execution_count": 367,
   "metadata": {},
   "outputs": [
    {
     "data": {
      "text/plain": [
       "[[[10, 10, 14, 26, 36, 82, 165, 193, 219, 242, 255, 255, 250, 235, 173, 72, 0],\n",
       "  [92,\n",
       "   112,\n",
       "   127,\n",
       "   147,\n",
       "   156,\n",
       "   169,\n",
       "   183,\n",
       "   184,\n",
       "   174,\n",
       "   154,\n",
       "   116,\n",
       "   100,\n",
       "   88,\n",
       "   82,\n",
       "   86,\n",
       "   86,\n",
       "   82]],\n",
       " [[143, 154, 156, 163, 216, 224, 221], [83, 4, 0, 0, 10, 67, 86]],\n",
       " [[175, 175, 179, 204, 206, 203, 175], [31, 40, 42, 44, 41, 30, 32]]]"
      ]
     },
     "execution_count": 367,
     "metadata": {},
     "output_type": "execute_result"
    }
   ],
   "source": [
    "doodle_dict_c['cruise ship']"
   ]
  },
  {
   "cell_type": "code",
   "execution_count": 376,
   "metadata": {},
   "outputs": [
    {
     "data": {
      "text/html": [
       "<div>\n",
       "<style scoped>\n",
       "    .dataframe tbody tr th:only-of-type {\n",
       "        vertical-align: middle;\n",
       "    }\n",
       "\n",
       "    .dataframe tbody tr th {\n",
       "        vertical-align: top;\n",
       "    }\n",
       "\n",
       "    .dataframe thead th {\n",
       "        text-align: right;\n",
       "    }\n",
       "</style>\n",
       "<table border=\"1\" class=\"dataframe\">\n",
       "  <thead>\n",
       "    <tr style=\"text-align: right;\">\n",
       "      <th></th>\n",
       "      <th>cruise ship</th>\n",
       "      <th>dragon</th>\n",
       "      <th>giraffe</th>\n",
       "      <th>hammer</th>\n",
       "      <th>lion</th>\n",
       "      <th>monkey</th>\n",
       "      <th>ocean</th>\n",
       "      <th>panda</th>\n",
       "      <th>penguin</th>\n",
       "      <th>shark</th>\n",
       "      <th>snake</th>\n",
       "      <th>spider</th>\n",
       "      <th>tiger</th>\n",
       "      <th>whale</th>\n",
       "      <th>zebra</th>\n",
       "    </tr>\n",
       "  </thead>\n",
       "  <tbody>\n",
       "    <tr>\n",
       "      <th>0</th>\n",
       "      <td>[[[0, 8, 18, 40, 61, 90, 107, 107, 19, 2], [47...</td>\n",
       "      <td>[[[116, 92, 77, 84, 107, 75, 82, 119], [10, 9,...</td>\n",
       "      <td>[[[24, 5, 0, 0, 10, 29, 54, 61, 68, 63, 71, 74...</td>\n",
       "      <td>[[[72, 61, 47], [255, 188, 63]], [[50, 50], [5...</td>\n",
       "      <td>[[[48, 48, 53, 83, 87, 87, 77, 114, 128, 109, ...</td>\n",
       "      <td>[[[57, 59, 69, 82, 101, 121, 145, 152, 170, 17...</td>\n",
       "      <td>[[[0, 11, 23, 40, 74], [3, 0, 8, 2, 2]], [[15,...</td>\n",
       "      <td>[[[52, 48, 41, 34, 30, 30, 45, 58, 74, 98, 121...</td>\n",
       "      <td>[[[71, 66, 67, 96, 107, 100, 79, 67], [71, 97,...</td>\n",
       "      <td>[[[107, 165, 228, 250, 255, 252, 221], [36, 31...</td>\n",
       "      <td>[[[0, 10, 36, 57, 69, 79, 86, 89, 92, 97, 116,...</td>\n",
       "      <td>[[[145, 138, 122, 87, 73, 71, 81, 90, 103, 111...</td>\n",
       "      <td>[[[76, 52, 24, 3, 0, 6, 37, 45, 52, 82, 106, 1...</td>\n",
       "      <td>[[[61, 119, 152, 193, 201, 209, 207, 197, 187,...</td>\n",
       "      <td>[[[71, 63, 57, 54, 60, 76, 84, 88, 82], [28, 2...</td>\n",
       "    </tr>\n",
       "    <tr>\n",
       "      <th>1</th>\n",
       "      <td>[[[61, 60, 86, 143, 217, 247, 249, 255], [141,...</td>\n",
       "      <td>[[[54, 40, 0, 53, 32, 12, 26, 14, 42, 19, 27, ...</td>\n",
       "      <td>[[[81, 81, 92, 109, 174, 199, 218, 232, 222, 2...</td>\n",
       "      <td>[[[17, 3, 0, 0, 8, 30, 70, 137], [3, 6, 12, 29...</td>\n",
       "      <td>[[[6, 1, 3, 29], [113, 115, 120, 123]], [[23, ...</td>\n",
       "      <td>[[[44, 30, 18, 12, 12, 17, 36], [85, 93, 107, ...</td>\n",
       "      <td>[[[0, 67, 104, 128, 155, 196, 227, 255], [19, ...</td>\n",
       "      <td>[[[69, 61, 61, 71, 81, 93, 98, 102, 103, 92, 7...</td>\n",
       "      <td>[[[50, 51, 67, 84, 95, 99, 98, 88, 76, 64, 56,...</td>\n",
       "      <td>[[[115, 115, 133, 152, 162, 166, 165, 155, 136...</td>\n",
       "      <td>[[[255, 246, 177, 157, 116, 70, 54, 25, 13, 0,...</td>\n",
       "      <td>[[[123, 104, 97, 94, 101, 109, 127, 142, 146, ...</td>\n",
       "      <td>[[[20, 14, 7, 1, 20], [13, 12, 17, 37, 59]], [...</td>\n",
       "      <td>[[[130, 109, 81, 54, 27, 6, 0, 7, 25, 40, 77, ...</td>\n",
       "      <td>[[[64, 57, 52, 48, 51, 63, 78, 86, 87, 84, 77,...</td>\n",
       "    </tr>\n",
       "    <tr>\n",
       "      <th>2</th>\n",
       "      <td>[[[2, 171, 249], [33, 33, 28]], [[0, 21, 167, ...</td>\n",
       "      <td>[[[34, 30, 39, 43, 50, 82, 83], [16, 3, 7, 2, ...</td>\n",
       "      <td>[[[24, 13, 0, 8, 32, 47, 57, 93, 108, 115, 136...</td>\n",
       "      <td>[[[62, 61, 67], [255, 211, 69]], [[68, 56, 37,...</td>\n",
       "      <td>[[[103, 87, 65, 54, 43, 43, 49, 63, 98, 123, 1...</td>\n",
       "      <td>[[[62, 32, 24, 19, 19, 27, 47, 77, 90, 103, 10...</td>\n",
       "      <td>[[[0, 33, 67, 72, 79, 85, 139, 158, 208, 230, ...</td>\n",
       "      <td>[[[55, 55, 59, 72, 81, 102, 129, 158, 175, 204...</td>\n",
       "      <td>[[[38, 61, 93, 103, 115, 126, 132, 141, 160, 1...</td>\n",
       "      <td>[[[167, 115, 99], [46, 41, 47]], [[123, 121, 1...</td>\n",
       "      <td>[[[0, 27, 34, 49, 60, 71, 110, 120, 139, 151, ...</td>\n",
       "      <td>[[[148, 133, 115, 101, 92, 91, 101, 113, 135, ...</td>\n",
       "      <td>[[[201, 182, 177, 176, 184, 204, 223, 234, 255...</td>\n",
       "      <td>[[[1, 5, 10, 28, 56, 86, 110, 119, 133, 151, 1...</td>\n",
       "      <td>[[[56, 54, 48, 65, 69, 64, 68], [114, 161, 189...</td>\n",
       "    </tr>\n",
       "  </tbody>\n",
       "</table>\n",
       "</div>"
      ],
      "text/plain": [
       "                                         cruise ship  \\\n",
       "0  [[[0, 8, 18, 40, 61, 90, 107, 107, 19, 2], [47...   \n",
       "1  [[[61, 60, 86, 143, 217, 247, 249, 255], [141,...   \n",
       "2  [[[2, 171, 249], [33, 33, 28]], [[0, 21, 167, ...   \n",
       "\n",
       "                                              dragon  \\\n",
       "0  [[[116, 92, 77, 84, 107, 75, 82, 119], [10, 9,...   \n",
       "1  [[[54, 40, 0, 53, 32, 12, 26, 14, 42, 19, 27, ...   \n",
       "2  [[[34, 30, 39, 43, 50, 82, 83], [16, 3, 7, 2, ...   \n",
       "\n",
       "                                             giraffe  \\\n",
       "0  [[[24, 5, 0, 0, 10, 29, 54, 61, 68, 63, 71, 74...   \n",
       "1  [[[81, 81, 92, 109, 174, 199, 218, 232, 222, 2...   \n",
       "2  [[[24, 13, 0, 8, 32, 47, 57, 93, 108, 115, 136...   \n",
       "\n",
       "                                              hammer  \\\n",
       "0  [[[72, 61, 47], [255, 188, 63]], [[50, 50], [5...   \n",
       "1  [[[17, 3, 0, 0, 8, 30, 70, 137], [3, 6, 12, 29...   \n",
       "2  [[[62, 61, 67], [255, 211, 69]], [[68, 56, 37,...   \n",
       "\n",
       "                                                lion  \\\n",
       "0  [[[48, 48, 53, 83, 87, 87, 77, 114, 128, 109, ...   \n",
       "1  [[[6, 1, 3, 29], [113, 115, 120, 123]], [[23, ...   \n",
       "2  [[[103, 87, 65, 54, 43, 43, 49, 63, 98, 123, 1...   \n",
       "\n",
       "                                              monkey  \\\n",
       "0  [[[57, 59, 69, 82, 101, 121, 145, 152, 170, 17...   \n",
       "1  [[[44, 30, 18, 12, 12, 17, 36], [85, 93, 107, ...   \n",
       "2  [[[62, 32, 24, 19, 19, 27, 47, 77, 90, 103, 10...   \n",
       "\n",
       "                                               ocean  \\\n",
       "0  [[[0, 11, 23, 40, 74], [3, 0, 8, 2, 2]], [[15,...   \n",
       "1  [[[0, 67, 104, 128, 155, 196, 227, 255], [19, ...   \n",
       "2  [[[0, 33, 67, 72, 79, 85, 139, 158, 208, 230, ...   \n",
       "\n",
       "                                               panda  \\\n",
       "0  [[[52, 48, 41, 34, 30, 30, 45, 58, 74, 98, 121...   \n",
       "1  [[[69, 61, 61, 71, 81, 93, 98, 102, 103, 92, 7...   \n",
       "2  [[[55, 55, 59, 72, 81, 102, 129, 158, 175, 204...   \n",
       "\n",
       "                                             penguin  \\\n",
       "0  [[[71, 66, 67, 96, 107, 100, 79, 67], [71, 97,...   \n",
       "1  [[[50, 51, 67, 84, 95, 99, 98, 88, 76, 64, 56,...   \n",
       "2  [[[38, 61, 93, 103, 115, 126, 132, 141, 160, 1...   \n",
       "\n",
       "                                               shark  \\\n",
       "0  [[[107, 165, 228, 250, 255, 252, 221], [36, 31...   \n",
       "1  [[[115, 115, 133, 152, 162, 166, 165, 155, 136...   \n",
       "2  [[[167, 115, 99], [46, 41, 47]], [[123, 121, 1...   \n",
       "\n",
       "                                               snake  \\\n",
       "0  [[[0, 10, 36, 57, 69, 79, 86, 89, 92, 97, 116,...   \n",
       "1  [[[255, 246, 177, 157, 116, 70, 54, 25, 13, 0,...   \n",
       "2  [[[0, 27, 34, 49, 60, 71, 110, 120, 139, 151, ...   \n",
       "\n",
       "                                              spider  \\\n",
       "0  [[[145, 138, 122, 87, 73, 71, 81, 90, 103, 111...   \n",
       "1  [[[123, 104, 97, 94, 101, 109, 127, 142, 146, ...   \n",
       "2  [[[148, 133, 115, 101, 92, 91, 101, 113, 135, ...   \n",
       "\n",
       "                                               tiger  \\\n",
       "0  [[[76, 52, 24, 3, 0, 6, 37, 45, 52, 82, 106, 1...   \n",
       "1  [[[20, 14, 7, 1, 20], [13, 12, 17, 37, 59]], [...   \n",
       "2  [[[201, 182, 177, 176, 184, 204, 223, 234, 255...   \n",
       "\n",
       "                                               whale  \\\n",
       "0  [[[61, 119, 152, 193, 201, 209, 207, 197, 187,...   \n",
       "1  [[[130, 109, 81, 54, 27, 6, 0, 7, 25, 40, 77, ...   \n",
       "2  [[[1, 5, 10, 28, 56, 86, 110, 119, 133, 151, 1...   \n",
       "\n",
       "                                               zebra  \n",
       "0  [[[71, 63, 57, 54, 60, 76, 84, 88, 82], [28, 2...  \n",
       "1  [[[64, 57, 52, 48, 51, 63, 78, 86, 87, 84, 77,...  \n",
       "2  [[[56, 54, 48, 65, 69, 64, 68], [114, 161, 189...  "
      ]
     },
     "execution_count": 376,
     "metadata": {},
     "output_type": "execute_result"
    }
   ],
   "source": [
    "# print(doodle_dict[\"whale\"]) #to see format of one entry in dict\n",
    "#print(doodle_dict['whale'])\n",
    "doodles_df = pd.DataFrame(doodle_dict)\n",
    "doodles_df.head(3)"
   ]
  },
  {
   "cell_type": "code",
   "execution_count": 377,
   "metadata": {
    "scrolled": false
   },
   "outputs": [
    {
     "data": {
      "image/png": "[encoded data removed]",
      "text/plain": [
       "<Figure size 432x288 with 1 Axes>"
      ]
     },
     "metadata": {
      "needs_background": "light"
     },
     "output_type": "display_data"
    }
   ],
   "source": [
    "# multiple images of a category are stored under one column\n",
    "\n",
    "x = doodles_df.iloc[20, 5]\n",
    "x_length = len(x)\n",
    "\n",
    "for i in range(x_length):\n",
    "    plt.plot(x[i][0], x[i][1])\n",
    "    plt.axis('off')\n",
    "  \n",
    "plt.savefig('shark_1.png')\n",
    "plt.show()"
   ]
  },
  {
   "cell_type": "code",
   "execution_count": 385,
   "metadata": {},
   "outputs": [],
   "source": [
    "df1 = doodles_df.transpose()"
   ]
  },
  {
   "cell_type": "code",
   "execution_count": 386,
   "metadata": {},
   "outputs": [
    {
     "data": {
      "text/html": [
       "<div>\n",
       "<style scoped>\n",
       "    .dataframe tbody tr th:only-of-type {\n",
       "        vertical-align: middle;\n",
       "    }\n",
       "\n",
       "    .dataframe tbody tr th {\n",
       "        vertical-align: top;\n",
       "    }\n",
       "\n",
       "    .dataframe thead th {\n",
       "        text-align: right;\n",
       "    }\n",
       "</style>\n",
       "<table border=\"1\" class=\"dataframe\">\n",
       "  <thead>\n",
       "    <tr style=\"text-align: right;\">\n",
       "      <th></th>\n",
       "      <th>keyword</th>\n",
       "      <th>sketch</th>\n",
       "    </tr>\n",
       "  </thead>\n",
       "  <tbody>\n",
       "    <tr>\n",
       "      <th>0</th>\n",
       "      <td>cruise ship</td>\n",
       "      <td>[[[0, 8, 18, 40, 61, 90, 107, 107, 19, 2], [47...</td>\n",
       "    </tr>\n",
       "    <tr>\n",
       "      <th>1</th>\n",
       "      <td>cruise ship</td>\n",
       "      <td>[[[61, 60, 86, 143, 217, 247, 249, 255], [141,...</td>\n",
       "    </tr>\n",
       "    <tr>\n",
       "      <th>2</th>\n",
       "      <td>cruise ship</td>\n",
       "      <td>[[[2, 171, 249], [33, 33, 28]], [[0, 21, 167, ...</td>\n",
       "    </tr>\n",
       "    <tr>\n",
       "      <th>3</th>\n",
       "      <td>cruise ship</td>\n",
       "      <td>[[[3, 34, 114, 249, 252, 254, 249, 207, 204, 1...</td>\n",
       "    </tr>\n",
       "    <tr>\n",
       "      <th>4</th>\n",
       "      <td>cruise ship</td>\n",
       "      <td>[[[12, 13, 24, 52, 96, 157, 190, 218, 242, 243...</td>\n",
       "    </tr>\n",
       "    <tr>\n",
       "      <th>...</th>\n",
       "      <td>...</td>\n",
       "      <td>...</td>\n",
       "    </tr>\n",
       "    <tr>\n",
       "      <th>1495</th>\n",
       "      <td>zebra</td>\n",
       "      <td>[[[153, 163, 197, 213, 223, 244, 252, 255, 244...</td>\n",
       "    </tr>\n",
       "    <tr>\n",
       "      <th>1496</th>\n",
       "      <td>zebra</td>\n",
       "      <td>[[[33, 4, 0, 3, 13, 40, 62, 73, 72, 84, 90, 92...</td>\n",
       "    </tr>\n",
       "    <tr>\n",
       "      <th>1497</th>\n",
       "      <td>zebra</td>\n",
       "      <td>[[[14, 8, 4, 4, 10, 15, 22, 27, 40, 47, 75, 80...</td>\n",
       "    </tr>\n",
       "    <tr>\n",
       "      <th>1498</th>\n",
       "      <td>zebra</td>\n",
       "      <td>[[[12, 3, 0, 4, 25], [23, 28, 37, 40, 41]], [[...</td>\n",
       "    </tr>\n",
       "    <tr>\n",
       "      <th>1499</th>\n",
       "      <td>zebra</td>\n",
       "      <td>[[[68, 66, 69], [96, 56, 44]], [[47, 48, 45], ...</td>\n",
       "    </tr>\n",
       "  </tbody>\n",
       "</table>\n",
       "<p>1500 rows × 2 columns</p>\n",
       "</div>"
      ],
      "text/plain": [
       "          keyword                                             sketch\n",
       "0     cruise ship  [[[0, 8, 18, 40, 61, 90, 107, 107, 19, 2], [47...\n",
       "1     cruise ship  [[[61, 60, 86, 143, 217, 247, 249, 255], [141,...\n",
       "2     cruise ship  [[[2, 171, 249], [33, 33, 28]], [[0, 21, 167, ...\n",
       "3     cruise ship  [[[3, 34, 114, 249, 252, 254, 249, 207, 204, 1...\n",
       "4     cruise ship  [[[12, 13, 24, 52, 96, 157, 190, 218, 242, 243...\n",
       "...           ...                                                ...\n",
       "1495        zebra  [[[153, 163, 197, 213, 223, 244, 252, 255, 244...\n",
       "1496        zebra  [[[33, 4, 0, 3, 13, 40, 62, 73, 72, 84, 90, 92...\n",
       "1497        zebra  [[[14, 8, 4, 4, 10, 15, 22, 27, 40, 47, 75, 80...\n",
       "1498        zebra  [[[12, 3, 0, 4, 25], [23, 28, 37, 40, 41]], [[...\n",
       "1499        zebra  [[[68, 66, 69], [96, 56, 44]], [[47, 48, 45], ...\n",
       "\n",
       "[1500 rows x 2 columns]"
      ]
     },
     "execution_count": 386,
     "metadata": {},
     "output_type": "execute_result"
    }
   ],
   "source": [
    "# df1 = df1.reset_index()\n",
    "# y = df1.iloc[:, 0]\n",
    "# x = df1.iloc[:, 1:]\n",
    "# x.shape\n",
    "df1 = df1.stack()\n",
    "df1 = df1.reset_index()\n",
    "df1 = df1.drop('level_1', axis = 1)\n",
    "df1.columns = ['keyword', 'sketch']\n",
    "df1"
   ]
  },
  {
   "cell_type": "code",
   "execution_count": 390,
   "metadata": {},
   "outputs": [
    {
     "data": {
      "text/plain": [
       "[[61, 60, 86, 143, 217, 247, 249, 255],\n",
       " [141, 138, 136, 138, 143, 151, 128, 103]]"
      ]
     },
     "execution_count": 390,
     "metadata": {},
     "output_type": "execute_result"
    }
   ],
   "source": [
    "df1.loc[1, 'sketch'][0]"
   ]
  },
  {
   "cell_type": "code",
   "execution_count": 406,
   "metadata": {},
   "outputs": [
    {
     "data": {
      "text/plain": [
       "1008    [[[2, 3, 18, 85, 94, 114, 125, 140, 241], [20,...\n",
       "678     [[[0, 21, 52, 90, 163, 220], [12, 10, 0, 11, 9...\n",
       "1123    [[[117, 105, 85, 67, 63, 72, 85, 118, 151, 157...\n",
       "1028    [[[121, 104, 95, 71, 62, 43, 33, 29, 31, 46, 7...\n",
       "1031    [[[4, 0, 2, 11, 30, 54, 81, 115, 172, 207, 216...\n",
       "                              ...                        \n",
       "1000    [[[0, 10, 36, 57, 69, 79, 86, 89, 92, 97, 116,...\n",
       "487     [[[131, 126, 117, 97, 88, 80, 77, 78, 82, 100,...\n",
       "93      [[[42, 53], [43, 83]], [[43, 51, 72, 89, 105, ...\n",
       "418     [[[127, 115, 101, 77, 60, 47, 38, 29, 35, 46, ...\n",
       "1164    [[[117, 106, 75, 68, 61, 60, 68, 81, 97, 135, ...\n",
       "Name: sketch, Length: 1050, dtype: object"
      ]
     },
     "execution_count": 406,
     "metadata": {},
     "output_type": "execute_result"
    }
   ],
   "source": [
    "# train_x and train_y, test_x and test_y\n",
    "\n",
    "from sklearn import model_selection\n",
    "train_x, test_x,  train_y, test_y = model_selection.train_test_split(df1.sketch, df1.keyword, test_size = 0.3)\n",
    "train_x"
   ]
  },
  {
   "cell_type": "code",
   "execution_count": 407,
   "metadata": {},
   "outputs": [
    {
     "data": {
      "text/plain": [
       "(1050,)"
      ]
     },
     "execution_count": 407,
     "metadata": {},
     "output_type": "execute_result"
    }
   ],
   "source": [
    "# need to reshape train and test x datas\n",
    "train_x.shape"
   ]
  },
  {
   "cell_type": "code",
   "execution_count": 476,
   "metadata": {},
   "outputs": [
    {
     "data": {
      "text/plain": [
       "[[[0, 8, 18, 40, 61, 90, 107, 107, 19, 2],\n",
       "  [47, 71, 85, 96, 98, 82, 65, 60, 51, 46]],\n",
       " [[41, 41], [52, 31]],\n",
       " [[52, 52], [55, 31]],\n",
       " [[55, 55, 49, 34, 34], [37, 3, 0, 2, 35]],\n",
       " [[30, 54], [36, 32]],\n",
       " [[56, 78, 77, 68, 63, 50], [31, 61, 32, 10, 4, 2]],\n",
       " [[29, 29], [14, 14]],\n",
       " [[140, 143, 156, 185, 205, 217, 237, 254, 255, 251],\n",
       "  [51, 65, 81, 99, 103, 99, 80, 40, 32, 29]]]"
      ]
     },
     "execution_count": 476,
     "metadata": {},
     "output_type": "execute_result"
    }
   ],
   "source": [
    "# grab a picture data\n",
    "\n",
    "picture = train_x[0]\n",
    "train_x[0]"
   ]
  },
  {
   "cell_type": "code",
   "execution_count": 485,
   "metadata": {},
   "outputs": [
    {
     "data": {
      "text/plain": [
       "[10, 2, 2, 5, 2, 6, 2, 10]"
      ]
     },
     "execution_count": 485,
     "metadata": {},
     "output_type": "execute_result"
    }
   ],
   "source": [
    "# find the length of all the individual drawings of the picture\n",
    "sketch_length = []\n",
    "for draw in picture:\n",
    "    sketch_length.append(len(draw[0]))\n",
    "\n",
    "total_points = sum(sketch_length)\n",
    "sketch_length"
   ]
  },
  {
   "cell_type": "code",
   "execution_count": 486,
   "metadata": {},
   "outputs": [
    {
     "data": {
      "text/plain": [
       "(39, 3)"
      ]
     },
     "execution_count": 486,
     "metadata": {},
     "output_type": "execute_result"
    }
   ],
   "source": [
    "# make a blank array that takes the x, y and end points of the picture\n",
    "\n",
    "pic_array = np.zeros((total_points, 3), dtype = np.float32)\n",
    "pic_array.shape"
   ]
  },
  {
   "cell_type": "code",
   "execution_count": 487,
   "metadata": {},
   "outputs": [],
   "source": [
    "# Do through each line of drawing and put it as the x and y values of the empty array.\n",
    "# if at the last list, mark the 3rd column as 1 (1 = end).\n",
    "\n",
    "position = 0\n",
    "\n",
    "for draw in picture:\n",
    "    for i in [0, 1]:\n",
    "        pic_array[position:(position + len(draw[0])), i] = draw[i]\n",
    "    position += len(draw[0])\n",
    "    pic_array[position-1, 2] = 1"
   ]
  },
  {
   "cell_type": "code",
   "execution_count": 488,
   "metadata": {},
   "outputs": [
    {
     "data": {
      "text/plain": [
       "array([[  0.,  47.,   0.],\n",
       "       [  8.,  71.,   0.],\n",
       "       [ 18.,  85.,   0.],\n",
       "       [ 40.,  96.,   0.],\n",
       "       [ 61.,  98.,   0.],\n",
       "       [ 90.,  82.,   0.],\n",
       "       [107.,  65.,   0.],\n",
       "       [107.,  60.,   0.],\n",
       "       [ 19.,  51.,   0.],\n",
       "       [  2.,  46.,   1.],\n",
       "       [ 41.,  52.,   0.],\n",
       "       [ 41.,  31.,   1.],\n",
       "       [ 52.,  55.,   0.],\n",
       "       [ 52.,  31.,   1.],\n",
       "       [ 55.,  37.,   0.],\n",
       "       [ 55.,   3.,   0.],\n",
       "       [ 49.,   0.,   0.],\n",
       "       [ 34.,   2.,   0.],\n",
       "       [ 34.,  35.,   1.],\n",
       "       [ 30.,  36.,   0.],\n",
       "       [ 54.,  32.,   1.],\n",
       "       [ 56.,  31.,   0.],\n",
       "       [ 78.,  61.,   0.],\n",
       "       [ 77.,  32.,   0.],\n",
       "       [ 68.,  10.,   0.],\n",
       "       [ 63.,   4.,   0.],\n",
       "       [ 50.,   2.,   1.],\n",
       "       [ 29.,  14.,   0.],\n",
       "       [ 29.,  14.,   1.],\n",
       "       [140.,  51.,   0.],\n",
       "       [143.,  65.,   0.],\n",
       "       [156.,  81.,   0.],\n",
       "       [185.,  99.,   0.],\n",
       "       [205., 103.,   0.],\n",
       "       [217.,  99.,   0.],\n",
       "       [237.,  80.,   0.],\n",
       "       [254.,  40.,   0.],\n",
       "       [255.,  32.,   0.],\n",
       "       [251.,  29.,   1.]], dtype=float32)"
      ]
     },
     "execution_count": 488,
     "metadata": {},
     "output_type": "execute_result"
    }
   ],
   "source": [
    "# example of what the array looks like\n",
    "pic_array"
   ]
  },
  {
   "cell_type": "code",
   "execution_count": 489,
   "metadata": {},
   "outputs": [
    {
     "data": {
      "text/plain": [
       "array([[0.        , 0.18431373, 0.        ],\n",
       "       [0.03137255, 0.2784314 , 0.        ],\n",
       "       [0.07058824, 0.33333334, 0.        ],\n",
       "       [0.15686275, 0.3764706 , 0.        ],\n",
       "       [0.23921569, 0.38431373, 0.        ],\n",
       "       [0.3529412 , 0.32156864, 0.        ],\n",
       "       [0.41960785, 0.25490198, 0.        ],\n",
       "       [0.41960785, 0.23529412, 0.        ],\n",
       "       [0.07450981, 0.2       , 0.        ],\n",
       "       [0.00784314, 0.18039216, 1.        ],\n",
       "       [0.16078432, 0.20392157, 0.        ],\n",
       "       [0.16078432, 0.12156863, 1.        ],\n",
       "       [0.20392157, 0.21568628, 0.        ],\n",
       "       [0.20392157, 0.12156863, 1.        ],\n",
       "       [0.21568628, 0.14509805, 0.        ],\n",
       "       [0.21568628, 0.01176471, 0.        ],\n",
       "       [0.19215687, 0.        , 0.        ],\n",
       "       [0.13333334, 0.00784314, 0.        ],\n",
       "       [0.13333334, 0.13725491, 1.        ],\n",
       "       [0.11764706, 0.14117648, 0.        ],\n",
       "       [0.21176471, 0.1254902 , 1.        ],\n",
       "       [0.21960784, 0.12156863, 0.        ],\n",
       "       [0.30588236, 0.23921569, 0.        ],\n",
       "       [0.3019608 , 0.1254902 , 0.        ],\n",
       "       [0.26666668, 0.03921569, 0.        ],\n",
       "       [0.24705882, 0.01568628, 0.        ],\n",
       "       [0.19607843, 0.00784314, 1.        ],\n",
       "       [0.11372549, 0.05490196, 0.        ],\n",
       "       [0.11372549, 0.05490196, 1.        ],\n",
       "       [0.54901963, 0.2       , 0.        ],\n",
       "       [0.56078434, 0.25490198, 0.        ],\n",
       "       [0.6117647 , 0.31764707, 0.        ],\n",
       "       [0.7254902 , 0.3882353 , 0.        ],\n",
       "       [0.8039216 , 0.40392157, 0.        ],\n",
       "       [0.8509804 , 0.3882353 , 0.        ],\n",
       "       [0.92941177, 0.3137255 , 0.        ],\n",
       "       [0.99607843, 0.15686275, 0.        ],\n",
       "       [1.        , 0.1254902 , 0.        ],\n",
       "       [0.9843137 , 0.11372549, 1.        ]], dtype=float32)"
      ]
     },
     "execution_count": 489,
     "metadata": {},
     "output_type": "execute_result"
    }
   ],
   "source": [
    "# Normalize the data in pic_array\n",
    "\n",
    "lowest_val = np.min(pic_array[:, :2])\n",
    "highest_val = np.max(pic_array[:, :2])\n",
    "\n",
    "value_range = highest_val - lowest_val\n",
    "\n",
    "# avoid divide by zero\n",
    "\n",
    "if value_range == 0:\n",
    "    value_range = 1\n",
    "    \n",
    "pic_array[:, :2] = pic_array[:, :2]/value_range\n",
    "\n",
    "pic_array"
   ]
  },
  {
   "cell_type": "code",
   "execution_count": 483,
   "metadata": {},
   "outputs": [],
   "source": [
    "# pic_array[1:, 0:2] -= pic_array[0:-1, 0:2]\n",
    "# pic_array"
   ]
  },
  {
   "cell_type": "code",
   "execution_count": 565,
   "metadata": {},
   "outputs": [],
   "source": [
    "# def change_pic_from_dict_to_array(df):\n",
    "#     new_df = []\n",
    "#     for i in range(df.shape[0]):\n",
    "#         picture = df.iloc[i]\n",
    "        \n",
    "#         # find the length of all the individual drawings of the picture\n",
    "#         sketch_length = []\n",
    "#         for draw in picture:\n",
    "#             sketch_length.append(len(draw[0]))\n",
    "\n",
    "#         total_points = sum(sketch_length)\n",
    "        \n",
    "#         # make a blank array that takes the x, y and end points of the picture\n",
    "\n",
    "#         pic_array = np.zeros((total_points, 3), dtype = np.float32)\n",
    "        \n",
    "#         # go through each line of drawing and put it as the x and y values of the empty array.\n",
    "#         # if at the last list, mark the 3rd column as 1 (1 = end).\n",
    "\n",
    "#         position = 0\n",
    "\n",
    "#         for draw in picture:\n",
    "#             for i in [0, 1]:\n",
    "#                 pic_array[position:(position + len(draw[0])), i] = draw[i]\n",
    "#             position += len(draw[0])\n",
    "#             pic_array[position-1, 2] = 1\n",
    "\n",
    "#         # Normalize the data in pic_array\n",
    "\n",
    "#         lowest_val = np.min(pic_array[:, :2])\n",
    "#         highest_val = np.max(pic_array[:, :2])\n",
    "\n",
    "#         value_range = highest_val - lowest_val\n",
    "\n",
    "#         # avoid divide by zero\n",
    "\n",
    "#         if value_range == 0:\n",
    "#             value_range = 1\n",
    "\n",
    "#         pic_array[:, :2] = pic_array[:, :2]/value_range\n",
    "        \n",
    "#         new_df.append(pic_array)\n",
    "        \n",
    "#     return new_df"
   ]
  },
  {
   "cell_type": "code",
   "execution_count": 547,
   "metadata": {},
   "outputs": [],
   "source": [
    "# def change_pic_from_dict_to_array_test(df):\n",
    "    \n",
    "#     for i in range(df.shape[0]):\n",
    "#         picture = df.iloc[i]\n",
    "        \n",
    "#         # find the length of all the individual drawings of the picture\n",
    "#         sketch_length = []\n",
    "#         for draw in picture:\n",
    "#             sketch_length.append(len(draw[0]))\n",
    "\n",
    "#         total_points = sum(sketch_length)\n",
    "        \n",
    "#         # make a blank array that takes the x, y and end points of the picture\n",
    "\n",
    "#         pic_array = np.zeros((total_points, 3), dtype = np.float32)\n",
    "        \n",
    "#         # go through each line of drawing and put it as the x and y values of the empty array.\n",
    "#         # if at the last list, mark the 3rd column as 1 (1 = end).\n",
    "\n",
    "#         position = 0\n",
    "\n",
    "#         for draw in picture:\n",
    "#             for i in [0, 1]:\n",
    "#                 pic_array[position:(position + len(draw[0])), i] = draw[i]\n",
    "#             position += len(draw[0])\n",
    "#             pic_array[position-1, 2] = 1\n",
    "\n",
    "#         # Normalize the data in pic_array\n",
    "\n",
    "#         lowest_val = np.min(pic_array[:, :2])\n",
    "#         highest_val = np.max(pic_array[:, :2])\n",
    "\n",
    "#         value_range = highest_val - lowest_val\n",
    "\n",
    "#         # avoid divide by zero\n",
    "\n",
    "#         if value_range == 0:\n",
    "#             value_range = 1\n",
    "\n",
    "#         pic_array[:, :2] = pic_array[:, :2]/value_range\n",
    "        \n",
    "#     return new_df"
   ]
  },
  {
   "cell_type": "code",
   "execution_count": 568,
   "metadata": {},
   "outputs": [],
   "source": [
    "# get longest length of drawings\n",
    "\n",
    "def longest_stroke(df):\n",
    "    \n",
    "    drawing_length = []\n",
    "    for i in range(df.shape[0]):\n",
    "        picture = df.iloc[i]\n",
    "        \n",
    "        # find the length of all the individual drawings of the picture\n",
    "        sketch_length = []\n",
    "        for draw in picture:\n",
    "            sketch_length.append(len(draw[0]))\n",
    "\n",
    "        total_points = sum(sketch_length)\n",
    "        drawing_length.append(total_points)\n",
    "        \n",
    "#     print(drawing_length)\n",
    "\n",
    "    return np.max(drawing_length)"
   ]
  },
  {
   "cell_type": "code",
   "execution_count": 566,
   "metadata": {},
   "outputs": [],
   "source": [
    "def change_pic_from_dict_to_array(df, max_sketch_length):\n",
    "    \n",
    "    pic_final = np.zeros((df.shape[0], max_sketch_length, 3), dtype = np.float32)\n",
    "    \n",
    "    for i in range(df.shape[0]):\n",
    "        \n",
    "        picture = df.iloc[i]\n",
    "        \n",
    "        # find the length of all the individual drawings of the picture\n",
    "#         sketch_length = []\n",
    "#         for draw in picture:\n",
    "#             sketch_length.append(len(draw[0]))\n",
    "\n",
    "#         total_points = sum(sketch_length)\n",
    "        \n",
    "        # make a blank array that takes the x, y and end points of the picture\n",
    "\n",
    "        pic_array = np.zeros((max_sketch_length, 3), dtype = np.float32)\n",
    "        \n",
    "        # go through each line of drawing and put it as the x and y values of the empty array.\n",
    "        # if at the last list, mark the 3rd column as 1 (1 = end).\n",
    "\n",
    "        position = 0\n",
    "\n",
    "        for draw in picture:\n",
    "            for i in [0, 1]:\n",
    "                pic_array[position:(position + len(draw[0])), i] = draw[i]\n",
    "            position += len(draw[0])\n",
    "            pic_array[position-1, 2] = 1\n",
    "\n",
    "        # Normalize the data in pic_array\n",
    "\n",
    "        lowest_val = np.min(pic_array[:, :2])\n",
    "        highest_val = np.max(pic_array[:, :2])\n",
    "\n",
    "        value_range = highest_val - lowest_val\n",
    "\n",
    "        # avoid divide by zero\n",
    "\n",
    "        if value_range == 0:\n",
    "            value_range = 1\n",
    "\n",
    "        pic_array[:, :2] = pic_array[:, :2]/value_range\n",
    "        \n",
    "        pic_final[i] = pic_array\n",
    "        \n",
    "    return pic_final"
   ]
  },
  {
   "cell_type": "code",
   "execution_count": 571,
   "metadata": {},
   "outputs": [
    {
     "data": {
      "text/plain": [
       "327"
      ]
     },
     "execution_count": 571,
     "metadata": {},
     "output_type": "execute_result"
    }
   ],
   "source": [
    "max_train_x = longest_stroke(train_x)\n",
    "max_test_x = longest_stroke(test_x)\n",
    "max_test_x"
   ]
  },
  {
   "cell_type": "code",
   "execution_count": 575,
   "metadata": {},
   "outputs": [
    {
     "data": {
      "text/plain": [
       "(450, 327, 3)"
      ]
     },
     "execution_count": 575,
     "metadata": {},
     "output_type": "execute_result"
    }
   ],
   "source": [
    "train_x_final = change_pic_from_dict_to_array(train_x, max_train_x)\n",
    "test_x_final = change_pic_from_dict_to_array(test_x, max_test_x)\n",
    "test_x_final.shape"
   ]
  },
  {
   "cell_type": "code",
   "execution_count": 582,
   "metadata": {},
   "outputs": [
    {
     "data": {
      "text/plain": [
       "array([[0.45882353, 0.24313726, 0.        ],\n",
       "       [0.41568628, 0.24313726, 0.        ],\n",
       "       [0.29411766, 0.35686275, 0.        ],\n",
       "       [0.26666668, 0.40392157, 0.        ],\n",
       "       [0.23921569, 0.45882353, 0.        ],\n",
       "       [0.23529412, 0.60784316, 0.        ],\n",
       "       [0.26666668, 0.6745098 , 0.        ],\n",
       "       [0.31764707, 0.7176471 , 0.        ],\n",
       "       [0.38039216, 0.73333335, 0.        ],\n",
       "       [0.5294118 , 0.7411765 , 0.        ],\n",
       "       [0.5921569 , 0.7176471 , 0.        ],\n",
       "       [0.6784314 , 0.65882355, 0.        ],\n",
       "       [0.7176471 , 0.5647059 , 0.        ],\n",
       "       [0.7176471 , 0.49411765, 0.        ],\n",
       "       [0.5411765 , 0.3372549 , 0.        ],\n",
       "       [0.5411765 , 0.21176471, 0.        ],\n",
       "       [0.5019608 , 0.16470589, 0.        ],\n",
       "       [0.47843137, 0.16470589, 0.        ],\n",
       "       [0.47843137, 0.18431373, 0.        ],\n",
       "       [0.5764706 , 0.16862746, 0.        ],\n",
       "       [0.76862746, 0.07843138, 0.        ],\n",
       "       [0.87058824, 0.        , 0.        ],\n",
       "       [0.9647059 , 0.16470589, 1.        ],\n",
       "       [0.6039216 , 0.45490196, 0.        ],\n",
       "       [0.7647059 , 0.39215687, 0.        ],\n",
       "       [0.9372549 , 0.36078432, 0.        ],\n",
       "       [0.95686275, 0.3882353 , 0.        ],\n",
       "       [0.972549  , 0.45882353, 0.        ],\n",
       "       [1.        , 0.5137255 , 1.        ],\n",
       "       [0.6745098 , 0.7019608 , 0.        ],\n",
       "       [0.7254902 , 0.7058824 , 0.        ],\n",
       "       [0.9647059 , 0.79607844, 0.        ],\n",
       "       [0.9647059 , 0.8235294 , 0.        ],\n",
       "       [0.9254902 , 0.9098039 , 1.        ],\n",
       "       [0.2784314 , 0.34117648, 0.        ],\n",
       "       [0.06666667, 0.13333334, 0.        ],\n",
       "       [0.04705882, 0.15294118, 0.        ],\n",
       "       [0.        , 0.32941177, 1.        ],\n",
       "       [0.3647059 , 0.5411765 , 0.        ],\n",
       "       [0.29803923, 0.5411765 , 0.        ],\n",
       "       [0.07450981, 0.6       , 0.        ],\n",
       "       [0.06666667, 0.7058824 , 0.        ],\n",
       "       [0.08235294, 0.7411765 , 1.        ],\n",
       "       [0.41960785, 0.73333335, 0.        ],\n",
       "       [0.29411766, 0.85882354, 0.        ],\n",
       "       [0.21960784, 0.90588236, 0.        ],\n",
       "       [0.32156864, 0.9607843 , 1.        ],\n",
       "       [0.        , 0.        , 0.        ],\n",
       "       [0.        , 0.        , 0.        ],\n",
       "       [0.        , 0.        , 0.        ],\n",
       "       [0.        , 0.        , 0.        ],\n",
       "       [0.        , 0.        , 0.        ],\n",
       "       [0.        , 0.        , 0.        ],\n",
       "       [0.        , 0.        , 0.        ],\n",
       "       [0.        , 0.        , 0.        ],\n",
       "       [0.        , 0.        , 0.        ],\n",
       "       [0.        , 0.        , 0.        ],\n",
       "       [0.        , 0.        , 0.        ],\n",
       "       [0.        , 0.        , 0.        ],\n",
       "       [0.        , 0.        , 0.        ],\n",
       "       [0.        , 0.        , 0.        ],\n",
       "       [0.        , 0.        , 0.        ],\n",
       "       [0.        , 0.        , 0.        ],\n",
       "       [0.        , 0.        , 0.        ],\n",
       "       [0.        , 0.        , 0.        ],\n",
       "       [0.        , 0.        , 0.        ],\n",
       "       [0.        , 0.        , 0.        ],\n",
       "       [0.        , 0.        , 0.        ],\n",
       "       [0.        , 0.        , 0.        ],\n",
       "       [0.        , 0.        , 0.        ],\n",
       "       [0.        , 0.        , 0.        ],\n",
       "       [0.        , 0.        , 0.        ],\n",
       "       [0.        , 0.        , 0.        ],\n",
       "       [0.        , 0.        , 0.        ],\n",
       "       [0.        , 0.        , 0.        ],\n",
       "       [0.        , 0.        , 0.        ],\n",
       "       [0.        , 0.        , 0.        ],\n",
       "       [0.        , 0.        , 0.        ],\n",
       "       [0.        , 0.        , 0.        ],\n",
       "       [0.        , 0.        , 0.        ],\n",
       "       [0.        , 0.        , 0.        ],\n",
       "       [0.        , 0.        , 0.        ],\n",
       "       [0.        , 0.        , 0.        ],\n",
       "       [0.        , 0.        , 0.        ],\n",
       "       [0.        , 0.        , 0.        ],\n",
       "       [0.        , 0.        , 0.        ],\n",
       "       [0.        , 0.        , 0.        ],\n",
       "       [0.        , 0.        , 0.        ],\n",
       "       [0.        , 0.        , 0.        ],\n",
       "       [0.        , 0.        , 0.        ],\n",
       "       [0.        , 0.        , 0.        ],\n",
       "       [0.        , 0.        , 0.        ],\n",
       "       [0.        , 0.        , 0.        ],\n",
       "       [0.        , 0.        , 0.        ],\n",
       "       [0.        , 0.        , 0.        ],\n",
       "       [0.        , 0.        , 0.        ],\n",
       "       [0.        , 0.        , 0.        ],\n",
       "       [0.        , 0.        , 0.        ],\n",
       "       [0.        , 0.        , 0.        ],\n",
       "       [0.        , 0.        , 0.        ],\n",
       "       [0.        , 0.        , 0.        ],\n",
       "       [0.        , 0.        , 0.        ],\n",
       "       [0.        , 0.        , 0.        ],\n",
       "       [0.        , 0.        , 0.        ],\n",
       "       [0.        , 0.        , 0.        ],\n",
       "       [0.        , 0.        , 0.        ],\n",
       "       [0.        , 0.        , 0.        ],\n",
       "       [0.        , 0.        , 0.        ],\n",
       "       [0.        , 0.        , 0.        ],\n",
       "       [0.        , 0.        , 0.        ],\n",
       "       [0.        , 0.        , 0.        ],\n",
       "       [0.        , 0.        , 0.        ],\n",
       "       [0.        , 0.        , 0.        ],\n",
       "       [0.        , 0.        , 0.        ],\n",
       "       [0.        , 0.        , 0.        ],\n",
       "       [0.        , 0.        , 0.        ],\n",
       "       [0.        , 0.        , 0.        ],\n",
       "       [0.        , 0.        , 0.        ],\n",
       "       [0.        , 0.        , 0.        ],\n",
       "       [0.        , 0.        , 0.        ],\n",
       "       [0.        , 0.        , 0.        ],\n",
       "       [0.        , 0.        , 0.        ],\n",
       "       [0.        , 0.        , 0.        ],\n",
       "       [0.        , 0.        , 0.        ],\n",
       "       [0.        , 0.        , 0.        ],\n",
       "       [0.        , 0.        , 0.        ],\n",
       "       [0.        , 0.        , 0.        ],\n",
       "       [0.        , 0.        , 0.        ],\n",
       "       [0.        , 0.        , 0.        ],\n",
       "       [0.        , 0.        , 0.        ],\n",
       "       [0.        , 0.        , 0.        ],\n",
       "       [0.        , 0.        , 0.        ],\n",
       "       [0.        , 0.        , 0.        ],\n",
       "       [0.        , 0.        , 0.        ],\n",
       "       [0.        , 0.        , 0.        ],\n",
       "       [0.        , 0.        , 0.        ],\n",
       "       [0.        , 0.        , 0.        ],\n",
       "       [0.        , 0.        , 0.        ],\n",
       "       [0.        , 0.        , 0.        ],\n",
       "       [0.        , 0.        , 0.        ],\n",
       "       [0.        , 0.        , 0.        ],\n",
       "       [0.        , 0.        , 0.        ],\n",
       "       [0.        , 0.        , 0.        ],\n",
       "       [0.        , 0.        , 0.        ],\n",
       "       [0.        , 0.        , 0.        ],\n",
       "       [0.        , 0.        , 0.        ],\n",
       "       [0.        , 0.        , 0.        ],\n",
       "       [0.        , 0.        , 0.        ],\n",
       "       [0.        , 0.        , 0.        ],\n",
       "       [0.        , 0.        , 0.        ],\n",
       "       [0.        , 0.        , 0.        ],\n",
       "       [0.        , 0.        , 0.        ],\n",
       "       [0.        , 0.        , 0.        ],\n",
       "       [0.        , 0.        , 0.        ],\n",
       "       [0.        , 0.        , 0.        ],\n",
       "       [0.        , 0.        , 0.        ],\n",
       "       [0.        , 0.        , 0.        ],\n",
       "       [0.        , 0.        , 0.        ],\n",
       "       [0.        , 0.        , 0.        ],\n",
       "       [0.        , 0.        , 0.        ],\n",
       "       [0.        , 0.        , 0.        ],\n",
       "       [0.        , 0.        , 0.        ],\n",
       "       [0.        , 0.        , 0.        ],\n",
       "       [0.        , 0.        , 0.        ],\n",
       "       [0.        , 0.        , 0.        ],\n",
       "       [0.        , 0.        , 0.        ],\n",
       "       [0.        , 0.        , 0.        ],\n",
       "       [0.        , 0.        , 0.        ],\n",
       "       [0.        , 0.        , 0.        ],\n",
       "       [0.        , 0.        , 0.        ],\n",
       "       [0.        , 0.        , 0.        ],\n",
       "       [0.        , 0.        , 0.        ],\n",
       "       [0.        , 0.        , 0.        ],\n",
       "       [0.        , 0.        , 0.        ],\n",
       "       [0.        , 0.        , 0.        ],\n",
       "       [0.        , 0.        , 0.        ],\n",
       "       [0.        , 0.        , 0.        ],\n",
       "       [0.        , 0.        , 0.        ],\n",
       "       [0.        , 0.        , 0.        ],\n",
       "       [0.        , 0.        , 0.        ],\n",
       "       [0.        , 0.        , 0.        ],\n",
       "       [0.        , 0.        , 0.        ],\n",
       "       [0.        , 0.        , 0.        ],\n",
       "       [0.        , 0.        , 0.        ],\n",
       "       [0.        , 0.        , 0.        ],\n",
       "       [0.        , 0.        , 0.        ],\n",
       "       [0.        , 0.        , 0.        ],\n",
       "       [0.        , 0.        , 0.        ],\n",
       "       [0.        , 0.        , 0.        ],\n",
       "       [0.        , 0.        , 0.        ],\n",
       "       [0.        , 0.        , 0.        ],\n",
       "       [0.        , 0.        , 0.        ],\n",
       "       [0.        , 0.        , 0.        ],\n",
       "       [0.        , 0.        , 0.        ],\n",
       "       [0.        , 0.        , 0.        ],\n",
       "       [0.        , 0.        , 0.        ],\n",
       "       [0.        , 0.        , 0.        ],\n",
       "       [0.        , 0.        , 0.        ],\n",
       "       [0.        , 0.        , 0.        ],\n",
       "       [0.        , 0.        , 0.        ],\n",
       "       [0.        , 0.        , 0.        ],\n",
       "       [0.        , 0.        , 0.        ],\n",
       "       [0.        , 0.        , 0.        ],\n",
       "       [0.        , 0.        , 0.        ],\n",
       "       [0.        , 0.        , 0.        ],\n",
       "       [0.        , 0.        , 0.        ],\n",
       "       [0.        , 0.        , 0.        ],\n",
       "       [0.        , 0.        , 0.        ],\n",
       "       [0.        , 0.        , 0.        ],\n",
       "       [0.        , 0.        , 0.        ],\n",
       "       [0.        , 0.        , 0.        ],\n",
       "       [0.        , 0.        , 0.        ],\n",
       "       [0.        , 0.        , 0.        ],\n",
       "       [0.        , 0.        , 0.        ],\n",
       "       [0.        , 0.        , 0.        ],\n",
       "       [0.        , 0.        , 0.        ],\n",
       "       [0.        , 0.        , 0.        ],\n",
       "       [0.        , 0.        , 0.        ],\n",
       "       [0.        , 0.        , 0.        ],\n",
       "       [0.        , 0.        , 0.        ],\n",
       "       [0.        , 0.        , 0.        ],\n",
       "       [0.        , 0.        , 0.        ],\n",
       "       [0.        , 0.        , 0.        ],\n",
       "       [0.        , 0.        , 0.        ],\n",
       "       [0.        , 0.        , 0.        ],\n",
       "       [0.        , 0.        , 0.        ],\n",
       "       [0.        , 0.        , 0.        ],\n",
       "       [0.        , 0.        , 0.        ],\n",
       "       [0.        , 0.        , 0.        ],\n",
       "       [0.        , 0.        , 0.        ],\n",
       "       [0.        , 0.        , 0.        ],\n",
       "       [0.        , 0.        , 0.        ],\n",
       "       [0.        , 0.        , 0.        ],\n",
       "       [0.        , 0.        , 0.        ],\n",
       "       [0.        , 0.        , 0.        ],\n",
       "       [0.        , 0.        , 0.        ],\n",
       "       [0.        , 0.        , 0.        ],\n",
       "       [0.        , 0.        , 0.        ],\n",
       "       [0.        , 0.        , 0.        ],\n",
       "       [0.        , 0.        , 0.        ],\n",
       "       [0.        , 0.        , 0.        ],\n",
       "       [0.        , 0.        , 0.        ],\n",
       "       [0.        , 0.        , 0.        ],\n",
       "       [0.        , 0.        , 0.        ],\n",
       "       [0.        , 0.        , 0.        ],\n",
       "       [0.        , 0.        , 0.        ],\n",
       "       [0.        , 0.        , 0.        ],\n",
       "       [0.        , 0.        , 0.        ],\n",
       "       [0.        , 0.        , 0.        ],\n",
       "       [0.        , 0.        , 0.        ],\n",
       "       [0.        , 0.        , 0.        ],\n",
       "       [0.        , 0.        , 0.        ],\n",
       "       [0.        , 0.        , 0.        ],\n",
       "       [0.        , 0.        , 0.        ],\n",
       "       [0.        , 0.        , 0.        ],\n",
       "       [0.        , 0.        , 0.        ],\n",
       "       [0.        , 0.        , 0.        ],\n",
       "       [0.        , 0.        , 0.        ],\n",
       "       [0.        , 0.        , 0.        ],\n",
       "       [0.        , 0.        , 0.        ],\n",
       "       [0.        , 0.        , 0.        ],\n",
       "       [0.        , 0.        , 0.        ],\n",
       "       [0.        , 0.        , 0.        ],\n",
       "       [0.        , 0.        , 0.        ],\n",
       "       [0.        , 0.        , 0.        ],\n",
       "       [0.        , 0.        , 0.        ],\n",
       "       [0.        , 0.        , 0.        ],\n",
       "       [0.        , 0.        , 0.        ],\n",
       "       [0.        , 0.        , 0.        ],\n",
       "       [0.        , 0.        , 0.        ],\n",
       "       [0.        , 0.        , 0.        ],\n",
       "       [0.        , 0.        , 0.        ],\n",
       "       [0.        , 0.        , 0.        ],\n",
       "       [0.        , 0.        , 0.        ],\n",
       "       [0.        , 0.        , 0.        ],\n",
       "       [0.        , 0.        , 0.        ],\n",
       "       [0.        , 0.        , 0.        ],\n",
       "       [0.        , 0.        , 0.        ],\n",
       "       [0.        , 0.        , 0.        ],\n",
       "       [0.        , 0.        , 0.        ],\n",
       "       [0.        , 0.        , 0.        ],\n",
       "       [0.        , 0.        , 0.        ],\n",
       "       [0.        , 0.        , 0.        ],\n",
       "       [0.        , 0.        , 0.        ],\n",
       "       [0.        , 0.        , 0.        ],\n",
       "       [0.        , 0.        , 0.        ],\n",
       "       [0.        , 0.        , 0.        ],\n",
       "       [0.        , 0.        , 0.        ],\n",
       "       [0.        , 0.        , 0.        ],\n",
       "       [0.        , 0.        , 0.        ],\n",
       "       [0.        , 0.        , 0.        ],\n",
       "       [0.        , 0.        , 0.        ],\n",
       "       [0.        , 0.        , 0.        ],\n",
       "       [0.        , 0.        , 0.        ],\n",
       "       [0.        , 0.        , 0.        ],\n",
       "       [0.        , 0.        , 0.        ],\n",
       "       [0.        , 0.        , 0.        ],\n",
       "       [0.        , 0.        , 0.        ],\n",
       "       [0.        , 0.        , 0.        ],\n",
       "       [0.        , 0.        , 0.        ],\n",
       "       [0.        , 0.        , 0.        ]], dtype=float32)"
      ]
     },
     "execution_count": 582,
     "metadata": {},
     "output_type": "execute_result"
    }
   ],
   "source": [
    "train_x_final[1, :, :]"
   ]
  },
  {
   "cell_type": "code",
   "execution_count": 588,
   "metadata": {},
   "outputs": [
    {
     "data": {
      "text/plain": [
       "array([[[0.        , 0.        , 0.        ],\n",
       "        [0.        , 0.        , 0.        ],\n",
       "        [0.        , 0.        , 0.        ],\n",
       "        ...,\n",
       "        [0.        , 0.        , 0.        ],\n",
       "        [0.        , 0.        , 0.        ],\n",
       "        [0.        , 0.        , 0.        ]],\n",
       "\n",
       "       [[0.45882353, 0.24313726, 0.        ],\n",
       "        [0.41568628, 0.24313726, 0.        ],\n",
       "        [0.29411766, 0.35686275, 0.        ],\n",
       "        ...,\n",
       "        [0.        , 0.        , 0.        ],\n",
       "        [0.        , 0.        , 0.        ],\n",
       "        [0.        , 0.        , 0.        ]],\n",
       "\n",
       "       [[0.        , 0.        , 0.        ],\n",
       "        [0.        , 0.        , 0.        ],\n",
       "        [0.        , 0.        , 0.        ],\n",
       "        ...,\n",
       "        [0.        , 0.        , 0.        ],\n",
       "        [0.        , 0.        , 0.        ],\n",
       "        [0.        , 0.        , 0.        ]],\n",
       "\n",
       "       ...,\n",
       "\n",
       "       [[0.        , 0.        , 0.        ],\n",
       "        [0.        , 0.        , 0.        ],\n",
       "        [0.        , 0.        , 0.        ],\n",
       "        ...,\n",
       "        [0.        , 0.        , 0.        ],\n",
       "        [0.        , 0.        , 0.        ],\n",
       "        [0.        , 0.        , 0.        ]],\n",
       "\n",
       "       [[0.        , 0.        , 0.        ],\n",
       "        [0.        , 0.        , 0.        ],\n",
       "        [0.        , 0.        , 0.        ],\n",
       "        ...,\n",
       "        [0.        , 0.        , 0.        ],\n",
       "        [0.        , 0.        , 0.        ],\n",
       "        [0.        , 0.        , 0.        ]],\n",
       "\n",
       "       [[0.        , 0.        , 0.        ],\n",
       "        [0.        , 0.        , 0.        ],\n",
       "        [0.        , 0.        , 0.        ],\n",
       "        ...,\n",
       "        [0.        , 0.        , 0.        ],\n",
       "        [0.        , 0.        , 0.        ],\n",
       "        [0.        , 0.        , 0.        ]]], dtype=float32)"
      ]
     },
     "execution_count": 588,
     "metadata": {},
     "output_type": "execute_result"
    }
   ],
   "source": [
    "train_x_final"
   ]
  },
  {
   "cell_type": "code",
   "execution_count": null,
   "metadata": {},
   "outputs": [],
   "source": []
  },
  {
   "cell_type": "code",
   "execution_count": 605,
   "metadata": {},
   "outputs": [],
   "source": [
    "model = tf.keras.Sequential()\n",
    "model.add(tf.keras.layers.Conv1D(5, kernel_size=300, activation='relu'))\n",
    "model.add(tf.keras.layers.Conv1D(64, kernel_size=20, activation='relu'))\n",
    "model.add(tf.keras.layers.Conv1D(64, kernel_size=9, activation='relu'))\n",
    "model.add(tf.keras.layers.Flatten())\n",
    "model.add(tf.keras.layers.Dense(680, activation='relu'))\n",
    "model.add(tf.keras.layers.Dense(category_count, activation='softmax'))\n",
    "\n",
    "model.compile(optimizer = 'rmsprop', loss = 'categorical_crossentropy', metrics = ['accuracy'])"
   ]
  },
  {
   "cell_type": "code",
   "execution_count": 603,
   "metadata": {},
   "outputs": [
    {
     "name": "stdout",
     "output_type": "stream",
     "text": [
      "Model: \"sequential_32\"\n",
      "_________________________________________________________________\n",
      "Layer (type)                 Output Shape              Param #   \n",
      "=================================================================\n",
      "conv1d_41 (Conv1D)           (None, 28, 5)             4505      \n",
      "_________________________________________________________________\n",
      "conv1d_42 (Conv1D)           (None, 9, 64)             6464      \n",
      "_________________________________________________________________\n",
      "conv1d_43 (Conv1D)           (None, 1, 64)             36928     \n",
      "_________________________________________________________________\n",
      "flatten_21 (Flatten)         (None, 64)                0         \n",
      "_________________________________________________________________\n",
      "dense_39 (Dense)             (None, 680)               44200     \n",
      "_________________________________________________________________\n",
      "dense_40 (Dense)             (None, 15)                10215     \n",
      "=================================================================\n",
      "Total params: 102,312\n",
      "Trainable params: 102,312\n",
      "Non-trainable params: 0\n",
      "_________________________________________________________________\n"
     ]
    }
   ],
   "source": [
    "model.summary()"
   ]
  },
  {
   "cell_type": "code",
   "execution_count": 606,
   "metadata": {},
   "outputs": [
    {
     "ename": "AttributeError",
     "evalue": "'list' object has no attribute 'shape'",
     "output_type": "error",
     "traceback": [
      "\u001b[1;31m---------------------------------------------------------------------------\u001b[0m",
      "\u001b[1;31mAttributeError\u001b[0m                            Traceback (most recent call last)",
      "\u001b[1;32m<ipython-input-606-f9cf58f6cd7b>\u001b[0m in \u001b[0;36m<module>\u001b[1;34m\u001b[0m\n\u001b[1;32m----> 1\u001b[1;33m \u001b[0mmodel\u001b[0m\u001b[1;33m.\u001b[0m\u001b[0mfit\u001b[0m\u001b[1;33m(\u001b[0m\u001b[0mtrain_x_array\u001b[0m\u001b[1;33m,\u001b[0m \u001b[0mtrain_y\u001b[0m\u001b[1;33m)\u001b[0m\u001b[1;33m\u001b[0m\u001b[1;33m\u001b[0m\u001b[0m\n\u001b[0m",
      "\u001b[1;32m~\\Anaconda3\\lib\\site-packages\\tensorflow_core\\python\\keras\\engine\\training.py\u001b[0m in \u001b[0;36mfit\u001b[1;34m(self, x, y, batch_size, epochs, verbose, callbacks, validation_split, validation_data, shuffle, class_weight, sample_weight, initial_epoch, steps_per_epoch, validation_steps, validation_freq, max_queue_size, workers, use_multiprocessing, **kwargs)\u001b[0m\n\u001b[0;32m    817\u001b[0m         \u001b[0mmax_queue_size\u001b[0m\u001b[1;33m=\u001b[0m\u001b[0mmax_queue_size\u001b[0m\u001b[1;33m,\u001b[0m\u001b[1;33m\u001b[0m\u001b[1;33m\u001b[0m\u001b[0m\n\u001b[0;32m    818\u001b[0m         \u001b[0mworkers\u001b[0m\u001b[1;33m=\u001b[0m\u001b[0mworkers\u001b[0m\u001b[1;33m,\u001b[0m\u001b[1;33m\u001b[0m\u001b[1;33m\u001b[0m\u001b[0m\n\u001b[1;32m--> 819\u001b[1;33m         use_multiprocessing=use_multiprocessing)\n\u001b[0m\u001b[0;32m    820\u001b[0m \u001b[1;33m\u001b[0m\u001b[0m\n\u001b[0;32m    821\u001b[0m   def evaluate(self,\n",
      "\u001b[1;32m~\\Anaconda3\\lib\\site-packages\\tensorflow_core\\python\\keras\\engine\\training_arrays.py\u001b[0m in \u001b[0;36mfit\u001b[1;34m(self, model, x, y, batch_size, epochs, verbose, callbacks, validation_split, validation_data, shuffle, class_weight, sample_weight, initial_epoch, steps_per_epoch, validation_steps, validation_freq, **kwargs)\u001b[0m\n\u001b[0;32m    646\u001b[0m         \u001b[0msteps\u001b[0m\u001b[1;33m=\u001b[0m\u001b[0msteps_per_epoch\u001b[0m\u001b[1;33m,\u001b[0m\u001b[1;33m\u001b[0m\u001b[1;33m\u001b[0m\u001b[0m\n\u001b[0;32m    647\u001b[0m         \u001b[0mvalidation_split\u001b[0m\u001b[1;33m=\u001b[0m\u001b[0mvalidation_split\u001b[0m\u001b[1;33m,\u001b[0m\u001b[1;33m\u001b[0m\u001b[1;33m\u001b[0m\u001b[0m\n\u001b[1;32m--> 648\u001b[1;33m         shuffle=shuffle)\n\u001b[0m\u001b[0;32m    649\u001b[0m \u001b[1;33m\u001b[0m\u001b[0m\n\u001b[0;32m    650\u001b[0m     \u001b[1;32mif\u001b[0m \u001b[0mvalidation_data\u001b[0m\u001b[1;33m:\u001b[0m\u001b[1;33m\u001b[0m\u001b[1;33m\u001b[0m\u001b[0m\n",
      "\u001b[1;32m~\\Anaconda3\\lib\\site-packages\\tensorflow_core\\python\\keras\\engine\\training.py\u001b[0m in \u001b[0;36m_standardize_user_data\u001b[1;34m(self, x, y, sample_weight, class_weight, batch_size, check_steps, steps_name, steps, validation_split, shuffle, extract_tensors_from_dataset)\u001b[0m\n\u001b[0;32m   2344\u001b[0m     \u001b[1;31m# First, we build the model on the fly if necessary.\u001b[0m\u001b[1;33m\u001b[0m\u001b[1;33m\u001b[0m\u001b[1;33m\u001b[0m\u001b[0m\n\u001b[0;32m   2345\u001b[0m     \u001b[1;32mif\u001b[0m \u001b[1;32mnot\u001b[0m \u001b[0mself\u001b[0m\u001b[1;33m.\u001b[0m\u001b[0minputs\u001b[0m\u001b[1;33m:\u001b[0m\u001b[1;33m\u001b[0m\u001b[1;33m\u001b[0m\u001b[0m\n\u001b[1;32m-> 2346\u001b[1;33m       \u001b[0mall_inputs\u001b[0m\u001b[1;33m,\u001b[0m \u001b[0my_input\u001b[0m\u001b[1;33m,\u001b[0m \u001b[0mdict_inputs\u001b[0m \u001b[1;33m=\u001b[0m \u001b[0mself\u001b[0m\u001b[1;33m.\u001b[0m\u001b[0m_build_model_with_inputs\u001b[0m\u001b[1;33m(\u001b[0m\u001b[0mx\u001b[0m\u001b[1;33m,\u001b[0m \u001b[0my\u001b[0m\u001b[1;33m)\u001b[0m\u001b[1;33m\u001b[0m\u001b[1;33m\u001b[0m\u001b[0m\n\u001b[0m\u001b[0;32m   2347\u001b[0m       \u001b[0mis_build_called\u001b[0m \u001b[1;33m=\u001b[0m \u001b[1;32mTrue\u001b[0m\u001b[1;33m\u001b[0m\u001b[1;33m\u001b[0m\u001b[0m\n\u001b[0;32m   2348\u001b[0m     \u001b[1;32melse\u001b[0m\u001b[1;33m:\u001b[0m\u001b[1;33m\u001b[0m\u001b[1;33m\u001b[0m\u001b[0m\n",
      "\u001b[1;32m~\\Anaconda3\\lib\\site-packages\\tensorflow_core\\python\\keras\\engine\\training.py\u001b[0m in \u001b[0;36m_build_model_with_inputs\u001b[1;34m(self, inputs, targets)\u001b[0m\n\u001b[0;32m   2570\u001b[0m     \u001b[1;32melse\u001b[0m\u001b[1;33m:\u001b[0m\u001b[1;33m\u001b[0m\u001b[1;33m\u001b[0m\u001b[0m\n\u001b[0;32m   2571\u001b[0m       \u001b[0mcast_inputs\u001b[0m \u001b[1;33m=\u001b[0m \u001b[0minputs\u001b[0m\u001b[1;33m\u001b[0m\u001b[1;33m\u001b[0m\u001b[0m\n\u001b[1;32m-> 2572\u001b[1;33m     \u001b[0mself\u001b[0m\u001b[1;33m.\u001b[0m\u001b[0m_set_inputs\u001b[0m\u001b[1;33m(\u001b[0m\u001b[0mcast_inputs\u001b[0m\u001b[1;33m)\u001b[0m\u001b[1;33m\u001b[0m\u001b[1;33m\u001b[0m\u001b[0m\n\u001b[0m\u001b[0;32m   2573\u001b[0m     \u001b[1;32mreturn\u001b[0m \u001b[0mprocessed_inputs\u001b[0m\u001b[1;33m,\u001b[0m \u001b[0mtargets\u001b[0m\u001b[1;33m,\u001b[0m \u001b[0mis_dict_inputs\u001b[0m\u001b[1;33m\u001b[0m\u001b[1;33m\u001b[0m\u001b[0m\n\u001b[0;32m   2574\u001b[0m \u001b[1;33m\u001b[0m\u001b[0m\n",
      "\u001b[1;32m~\\Anaconda3\\lib\\site-packages\\tensorflow_core\\python\\keras\\engine\\training.py\u001b[0m in \u001b[0;36m_set_inputs\u001b[1;34m(self, inputs, outputs, training)\u001b[0m\n\u001b[0;32m   2645\u001b[0m         \u001b[0mfirst\u001b[0m \u001b[0mlayer\u001b[0m \u001b[0misn\u001b[0m\u001b[0;31m'\u001b[0m\u001b[0mt\u001b[0m \u001b[0mFeatureLayer\u001b[0m\u001b[1;33m.\u001b[0m\u001b[1;33m\u001b[0m\u001b[1;33m\u001b[0m\u001b[0m\n\u001b[0;32m   2646\u001b[0m     \"\"\"\n\u001b[1;32m-> 2647\u001b[1;33m     \u001b[0minputs\u001b[0m \u001b[1;33m=\u001b[0m \u001b[0mself\u001b[0m\u001b[1;33m.\u001b[0m\u001b[0m_set_input_attrs\u001b[0m\u001b[1;33m(\u001b[0m\u001b[0minputs\u001b[0m\u001b[1;33m)\u001b[0m\u001b[1;33m\u001b[0m\u001b[1;33m\u001b[0m\u001b[0m\n\u001b[0m\u001b[0;32m   2648\u001b[0m \u001b[1;33m\u001b[0m\u001b[0m\n\u001b[0;32m   2649\u001b[0m     \u001b[1;32mif\u001b[0m \u001b[0moutputs\u001b[0m \u001b[1;32mis\u001b[0m \u001b[1;32mNone\u001b[0m\u001b[1;33m:\u001b[0m\u001b[1;33m\u001b[0m\u001b[1;33m\u001b[0m\u001b[0m\n",
      "\u001b[1;32m~\\Anaconda3\\lib\\site-packages\\tensorflow_core\\python\\training\\tracking\\base.py\u001b[0m in \u001b[0;36m_method_wrapper\u001b[1;34m(self, *args, **kwargs)\u001b[0m\n\u001b[0;32m    455\u001b[0m     \u001b[0mself\u001b[0m\u001b[1;33m.\u001b[0m\u001b[0m_self_setattr_tracking\u001b[0m \u001b[1;33m=\u001b[0m \u001b[1;32mFalse\u001b[0m  \u001b[1;31m# pylint: disable=protected-access\u001b[0m\u001b[1;33m\u001b[0m\u001b[1;33m\u001b[0m\u001b[0m\n\u001b[0;32m    456\u001b[0m     \u001b[1;32mtry\u001b[0m\u001b[1;33m:\u001b[0m\u001b[1;33m\u001b[0m\u001b[1;33m\u001b[0m\u001b[0m\n\u001b[1;32m--> 457\u001b[1;33m       \u001b[0mresult\u001b[0m \u001b[1;33m=\u001b[0m \u001b[0mmethod\u001b[0m\u001b[1;33m(\u001b[0m\u001b[0mself\u001b[0m\u001b[1;33m,\u001b[0m \u001b[1;33m*\u001b[0m\u001b[0margs\u001b[0m\u001b[1;33m,\u001b[0m \u001b[1;33m**\u001b[0m\u001b[0mkwargs\u001b[0m\u001b[1;33m)\u001b[0m\u001b[1;33m\u001b[0m\u001b[1;33m\u001b[0m\u001b[0m\n\u001b[0m\u001b[0;32m    458\u001b[0m     \u001b[1;32mfinally\u001b[0m\u001b[1;33m:\u001b[0m\u001b[1;33m\u001b[0m\u001b[1;33m\u001b[0m\u001b[0m\n\u001b[0;32m    459\u001b[0m       \u001b[0mself\u001b[0m\u001b[1;33m.\u001b[0m\u001b[0m_self_setattr_tracking\u001b[0m \u001b[1;33m=\u001b[0m \u001b[0mprevious_value\u001b[0m  \u001b[1;31m# pylint: disable=protected-access\u001b[0m\u001b[1;33m\u001b[0m\u001b[1;33m\u001b[0m\u001b[0m\n",
      "\u001b[1;32m~\\Anaconda3\\lib\\site-packages\\tensorflow_core\\python\\keras\\engine\\training.py\u001b[0m in \u001b[0;36m_set_input_attrs\u001b[1;34m(self, inputs)\u001b[0m\n\u001b[0;32m   2684\u001b[0m         \u001b[0minput_shape\u001b[0m \u001b[1;33m=\u001b[0m \u001b[1;33m(\u001b[0m\u001b[1;32mNone\u001b[0m\u001b[1;33m,\u001b[0m\u001b[1;33m)\u001b[0m\u001b[1;33m\u001b[0m\u001b[1;33m\u001b[0m\u001b[0m\n\u001b[0;32m   2685\u001b[0m       \u001b[1;32melse\u001b[0m\u001b[1;33m:\u001b[0m\u001b[1;33m\u001b[0m\u001b[1;33m\u001b[0m\u001b[0m\n\u001b[1;32m-> 2686\u001b[1;33m         \u001b[0minput_shape\u001b[0m \u001b[1;33m=\u001b[0m \u001b[1;33m(\u001b[0m\u001b[1;32mNone\u001b[0m\u001b[1;33m,\u001b[0m\u001b[1;33m)\u001b[0m \u001b[1;33m+\u001b[0m \u001b[0mtuple\u001b[0m\u001b[1;33m(\u001b[0m\u001b[0minputs\u001b[0m\u001b[1;33m.\u001b[0m\u001b[0mshape\u001b[0m\u001b[1;33m[\u001b[0m\u001b[1;36m1\u001b[0m\u001b[1;33m:\u001b[0m\u001b[1;33m]\u001b[0m\u001b[1;33m)\u001b[0m\u001b[1;33m\u001b[0m\u001b[1;33m\u001b[0m\u001b[0m\n\u001b[0m\u001b[0;32m   2687\u001b[0m       \u001b[0mself\u001b[0m\u001b[1;33m.\u001b[0m\u001b[0m_build_input_shape\u001b[0m \u001b[1;33m=\u001b[0m \u001b[0minput_shape\u001b[0m\u001b[1;33m\u001b[0m\u001b[1;33m\u001b[0m\u001b[0m\n\u001b[0;32m   2688\u001b[0m \u001b[1;33m\u001b[0m\u001b[0m\n",
      "\u001b[1;31mAttributeError\u001b[0m: 'list' object has no attribute 'shape'"
     ]
    }
   ],
   "source": [
    "model.fit(train_x_array, train_y)"
   ]
  },
  {
   "cell_type": "code",
   "execution_count": null,
   "metadata": {},
   "outputs": [],
   "source": [
    "# get values from softmax\n",
    "\n",
    "model.predict(pict)"
   ]
  },
  {
   "cell_type": "code",
   "execution_count": null,
   "metadata": {},
   "outputs": [],
   "source": [
    "# build the classification model \n",
    "\n",
    "# pass data through convolutional layers\n",
    "\n",
    "convoluted_input = train_x.shape[0] # based on train_x data\n",
    "num_convolutions =  # filter values\n",
    "length_convolutions = 10 # kernel values\n",
    "\n",
    "# normalize picture data\n",
    "convoluted_input = tf.keras.layers.BatchNormalization(convoluted_input, trainable = False)\n",
    "\n",
    "# create model\n",
    "model = tf.keras.models.Sequential()\n",
    "\n",
    "# 1D convolution on images\n",
    "model.add(tf.keras.layers.Conv1D(filters = num_convolutions,\n",
    "                           kernel_size = length_convolutions,\n",
    "                           strides = 1,\n",
    "                           activation = None, \n",
    "                           use_bias = True))\n",
    "\n",
    "#model.add(tf.keras.layers.Lambda(lambda x: tf.expand_dims(model.output, axis=-1)))\n",
    "\n",
    "# re-evaluate size / convolution of image\n",
    "\n",
    "num_convolutions = 6 # filter values\n",
    "length_convolutions = 8 # kernel values\n",
    "\n",
    "# 1D convolution on images\n",
    "model.add(tf.keras.layers.Conv1D(filters = num_convolutions,\n",
    "                           kernel_size = length_convolutions,\n",
    "                           strides = 1,\n",
    "                           activation = None, \n",
    "                           use_bias = True))\n",
    "\n",
    "# re-evaluate size / convolution of image\n",
    "num_convolutions = 14 # filter values\n",
    "length_convolutions = 5 # kernel values\n",
    "\n",
    "# 1D convolution on images\n",
    "model.add(tf.keras.layers.Conv1D(filters = num_convolutions,\n",
    "                           kernel_size = length_convolutions,\n",
    "                           strides = 1,\n",
    "                           activation = None, \n",
    "                           use_bias = True))\n",
    "\n",
    "######################### end ###############################\n",
    "\n",
    "# flatten and classify\n",
    "\n",
    "model.add(tf.keras.layers.Flatten())\n",
    "\n",
    "model.add(tf.keras.layers.Lambda(lambda x: tf.expand_dims(model.output, axis=-1)))\n",
    "\n",
    "model.add(tf.keras.layers.Dense(15, activation = 'softmax'))\n",
    "\n",
    "######################### can potentially add movie classification to this model here\n",
    "\n",
    "model.compile(optimizer = 'rmsprop', loss = 'categorical_crossentropy', metrics = ['accuracy'])\n",
    "    "
   ]
  },
  {
   "cell_type": "code",
   "execution_count": 402,
   "metadata": {},
   "outputs": [
    {
     "data": {
      "image/png": "[encoded data removed]",
      "text/plain": [
       "<Figure size 432x288 with 1 Axes>"
      ]
     },
     "metadata": {
      "needs_background": "light"
     },
     "output_type": "display_data"
    }
   ],
   "source": [
    "fname = \"shark_1.png\"\n",
    "\n",
    "img = plt.imread(fname)\n",
    "plt.imshow(img)\n",
    "\n",
    "# numRows, numCols, numChannels = img.shape\n",
    "# numPixels = numRows * numCols\n",
    "\n",
    "# numFeatures = 5\n",
    "\n",
    "# pic_array = np.zeros((numPixels, numFeatures))\n",
    "\n",
    "# idx = 0\n",
    "\n",
    "# for i in range(numRows):\n",
    "#     for j in range(numCols):\n",
    "        \n",
    "#         pic_array[idx,0:3] = img[i,j,:]\n",
    "#         pic_array[idx,3] = i\n",
    "#         pic_array[idx,4] = j\n",
    "        \n",
    "#         idx = idx + 1\n",
    "\n",
    "# pic_array = np.double(X)\n",
    "# means = np.mean(X, axis = 0)\n",
    "# standardDevs = np.std(X, axis = 0)\n",
    "\n",
    "# pic_array = (X-means)/standardDevs #normalizing the data\n",
    "means = np.mean(img)\n",
    "standardDevs = np.std(img)\n",
    "\n",
    "img = (img-means)/standardDevs #normalizing the data"
   ]
  },
  {
   "cell_type": "code",
   "execution_count": 403,
   "metadata": {},
   "outputs": [
    {
     "data": {
      "text/plain": [
       "(288, 432, 4)"
      ]
     },
     "execution_count": 403,
     "metadata": {},
     "output_type": "execute_result"
    }
   ],
   "source": [
    "# shapes = features[\"shape\"]\n",
    "# lengths = tf.squeeze(\n",
    "#     tf.slice(shapes, begin=[0, 0], size=[params[\"batch_size\"], 1]))\n",
    "# inks = tf.reshape(\n",
    "#     tf.sparse_tensor_to_dense(features[\"ink\"]),\n",
    "#     [params[\"batch_size\"], -1, 3])\n",
    "# if targets is not None:\n",
    "#   targets = tf.squeeze(targets)\n",
    "img.shape"
   ]
  },
  {
   "cell_type": "code",
   "execution_count": 250,
   "metadata": {},
   "outputs": [
    {
     "data": {
      "text/plain": [
       "(162, 32, 32, 3)"
      ]
     },
     "execution_count": 250,
     "metadata": {},
     "output_type": "execute_result"
    }
   ],
   "source": [
    "pic_label = ['shark']\n",
    "pic_label = pd.DataFrame(pic_label)\n",
    "imgx = img.shape[0]\n",
    "imgy = img.shape[1]\n",
    "imgz = img.shape[2]\n",
    "img = np.reshape(img, (-1, 32, 32, 3))\n",
    "img.shape"
   ]
  },
  {
   "cell_type": "code",
   "execution_count": 251,
   "metadata": {},
   "outputs": [
    {
     "name": "stdout",
     "output_type": "stream",
     "text": [
      "Model: \"sequential_13\"\n",
      "_________________________________________________________________\n",
      "Layer (type)                 Output Shape              Param #   \n",
      "=================================================================\n",
      "conv2d_21 (Conv2D)           (None, 32, 32, 32)        896       \n",
      "_________________________________________________________________\n",
      "max_pooling2d_20 (MaxPooling (None, 16, 16, 32)        0         \n",
      "_________________________________________________________________\n",
      "conv2d_22 (Conv2D)           (None, 16, 16, 64)        18496     \n",
      "_________________________________________________________________\n",
      "max_pooling2d_21 (MaxPooling (None, 8, 8, 64)          0         \n",
      "_________________________________________________________________\n",
      "dropout_19 (Dropout)         (None, 8, 8, 64)          0         \n",
      "_________________________________________________________________\n",
      "flatten_10 (Flatten)         (None, 4096)              0         \n",
      "_________________________________________________________________\n",
      "dense_17 (Dense)             (None, 680)               2785960   \n",
      "_________________________________________________________________\n",
      "dropout_20 (Dropout)         (None, 680)               0         \n",
      "_________________________________________________________________\n",
      "dense_18 (Dense)             (None, 15)                10215     \n",
      "=================================================================\n",
      "Total params: 2,815,567\n",
      "Trainable params: 2,815,567\n",
      "Non-trainable params: 0\n",
      "_________________________________________________________________\n"
     ]
    }
   ],
   "source": [
    "model = tf.keras.Sequential()\n",
    "model.add(tf.keras.layers.Conv2D(32, kernel_size=(3, 3), padding='same', activation='relu', input_shape=(32, 32, 3)))\n",
    "model.add(tf.keras.layers.MaxPooling2D(pool_size=(2, 2)))\n",
    "model.add(tf.keras.layers.Conv2D(64, kernel_size=(3, 3), padding='same', activation='relu'))\n",
    "model.add(tf.keras.layers.MaxPooling2D(pool_size=(2, 2)))\n",
    "model.add(tf.keras.layers.Dropout(0.2))\n",
    "model.add(tf.keras.layers.Flatten())\n",
    "model.add(tf.keras.layers.Dense(680, activation='relu'))\n",
    "model.add(tf.keras.layers.Dropout(0.5))\n",
    "model.add(tf.keras.layers.Dense(category_count, activation='softmax'))\n",
    "model.summary()"
   ]
  },
  {
   "cell_type": "code",
   "execution_count": 252,
   "metadata": {},
   "outputs": [],
   "source": [
    "model.compile(optimizer = 'rmsprop', loss = 'categorical_crossentropy', metrics = ['accuracy'])"
   ]
  },
  {
   "cell_type": "code",
   "execution_count": 253,
   "metadata": {},
   "outputs": [
    {
     "ename": "ValueError",
     "evalue": "Input arrays should have the same number of samples as target arrays. Found 162 input samples and 1 target samples.",
     "output_type": "error",
     "traceback": [
      "\u001b[1;31m---------------------------------------------------------------------------\u001b[0m",
      "\u001b[1;31mValueError\u001b[0m                                Traceback (most recent call last)",
      "\u001b[1;32m<ipython-input-253-578b23336834>\u001b[0m in \u001b[0;36m<module>\u001b[1;34m\u001b[0m\n\u001b[0;32m      1\u001b[0m model.fit(x=img, y=pic_label,\n\u001b[0;32m      2\u001b[0m           \u001b[0mbatch_size\u001b[0m \u001b[1;33m=\u001b[0m \u001b[1;36m32\u001b[0m\u001b[1;33m,\u001b[0m\u001b[1;33m\u001b[0m\u001b[1;33m\u001b[0m\u001b[0m\n\u001b[1;32m----> 3\u001b[1;33m           epochs = 22)\n\u001b[0m",
      "\u001b[1;32m~\\Anaconda3\\lib\\site-packages\\tensorflow_core\\python\\keras\\engine\\training.py\u001b[0m in \u001b[0;36mfit\u001b[1;34m(self, x, y, batch_size, epochs, verbose, callbacks, validation_split, validation_data, shuffle, class_weight, sample_weight, initial_epoch, steps_per_epoch, validation_steps, validation_freq, max_queue_size, workers, use_multiprocessing, **kwargs)\u001b[0m\n\u001b[0;32m    817\u001b[0m         \u001b[0mmax_queue_size\u001b[0m\u001b[1;33m=\u001b[0m\u001b[0mmax_queue_size\u001b[0m\u001b[1;33m,\u001b[0m\u001b[1;33m\u001b[0m\u001b[1;33m\u001b[0m\u001b[0m\n\u001b[0;32m    818\u001b[0m         \u001b[0mworkers\u001b[0m\u001b[1;33m=\u001b[0m\u001b[0mworkers\u001b[0m\u001b[1;33m,\u001b[0m\u001b[1;33m\u001b[0m\u001b[1;33m\u001b[0m\u001b[0m\n\u001b[1;32m--> 819\u001b[1;33m         use_multiprocessing=use_multiprocessing)\n\u001b[0m\u001b[0;32m    820\u001b[0m \u001b[1;33m\u001b[0m\u001b[0m\n\u001b[0;32m    821\u001b[0m   def evaluate(self,\n",
      "\u001b[1;32m~\\Anaconda3\\lib\\site-packages\\tensorflow_core\\python\\keras\\engine\\training_arrays.py\u001b[0m in \u001b[0;36mfit\u001b[1;34m(self, model, x, y, batch_size, epochs, verbose, callbacks, validation_split, validation_data, shuffle, class_weight, sample_weight, initial_epoch, steps_per_epoch, validation_steps, validation_freq, **kwargs)\u001b[0m\n\u001b[0;32m    646\u001b[0m         \u001b[0msteps\u001b[0m\u001b[1;33m=\u001b[0m\u001b[0msteps_per_epoch\u001b[0m\u001b[1;33m,\u001b[0m\u001b[1;33m\u001b[0m\u001b[1;33m\u001b[0m\u001b[0m\n\u001b[0;32m    647\u001b[0m         \u001b[0mvalidation_split\u001b[0m\u001b[1;33m=\u001b[0m\u001b[0mvalidation_split\u001b[0m\u001b[1;33m,\u001b[0m\u001b[1;33m\u001b[0m\u001b[1;33m\u001b[0m\u001b[0m\n\u001b[1;32m--> 648\u001b[1;33m         shuffle=shuffle)\n\u001b[0m\u001b[0;32m    649\u001b[0m \u001b[1;33m\u001b[0m\u001b[0m\n\u001b[0;32m    650\u001b[0m     \u001b[1;32mif\u001b[0m \u001b[0mvalidation_data\u001b[0m\u001b[1;33m:\u001b[0m\u001b[1;33m\u001b[0m\u001b[1;33m\u001b[0m\u001b[0m\n",
      "\u001b[1;32m~\\Anaconda3\\lib\\site-packages\\tensorflow_core\\python\\keras\\engine\\training.py\u001b[0m in \u001b[0;36m_standardize_user_data\u001b[1;34m(self, x, y, sample_weight, class_weight, batch_size, check_steps, steps_name, steps, validation_split, shuffle, extract_tensors_from_dataset)\u001b[0m\n\u001b[0;32m   2381\u001b[0m         \u001b[0mis_dataset\u001b[0m\u001b[1;33m=\u001b[0m\u001b[0mis_dataset\u001b[0m\u001b[1;33m,\u001b[0m\u001b[1;33m\u001b[0m\u001b[1;33m\u001b[0m\u001b[0m\n\u001b[0;32m   2382\u001b[0m         \u001b[0mclass_weight\u001b[0m\u001b[1;33m=\u001b[0m\u001b[0mclass_weight\u001b[0m\u001b[1;33m,\u001b[0m\u001b[1;33m\u001b[0m\u001b[1;33m\u001b[0m\u001b[0m\n\u001b[1;32m-> 2383\u001b[1;33m         batch_size=batch_size)\n\u001b[0m\u001b[0;32m   2384\u001b[0m \u001b[1;33m\u001b[0m\u001b[0m\n\u001b[0;32m   2385\u001b[0m   def _standardize_tensors(self, x, y, sample_weight, run_eagerly, dict_inputs,\n",
      "\u001b[1;32m~\\Anaconda3\\lib\\site-packages\\tensorflow_core\\python\\keras\\engine\\training.py\u001b[0m in \u001b[0;36m_standardize_tensors\u001b[1;34m(self, x, y, sample_weight, run_eagerly, dict_inputs, is_dataset, class_weight, batch_size)\u001b[0m\n\u001b[0;32m   2483\u001b[0m       \u001b[1;31m# Check that all arrays have the same length.\u001b[0m\u001b[1;33m\u001b[0m\u001b[1;33m\u001b[0m\u001b[1;33m\u001b[0m\u001b[0m\n\u001b[0;32m   2484\u001b[0m       \u001b[1;32mif\u001b[0m \u001b[1;32mnot\u001b[0m \u001b[0mself\u001b[0m\u001b[1;33m.\u001b[0m\u001b[0m_distribution_strategy\u001b[0m\u001b[1;33m:\u001b[0m\u001b[1;33m\u001b[0m\u001b[1;33m\u001b[0m\u001b[0m\n\u001b[1;32m-> 2485\u001b[1;33m         \u001b[0mtraining_utils\u001b[0m\u001b[1;33m.\u001b[0m\u001b[0mcheck_array_lengths\u001b[0m\u001b[1;33m(\u001b[0m\u001b[0mx\u001b[0m\u001b[1;33m,\u001b[0m \u001b[0my\u001b[0m\u001b[1;33m,\u001b[0m \u001b[0msample_weights\u001b[0m\u001b[1;33m)\u001b[0m\u001b[1;33m\u001b[0m\u001b[1;33m\u001b[0m\u001b[0m\n\u001b[0m\u001b[0;32m   2486\u001b[0m         \u001b[1;32mif\u001b[0m \u001b[0mself\u001b[0m\u001b[1;33m.\u001b[0m\u001b[0m_is_graph_network\u001b[0m \u001b[1;32mand\u001b[0m \u001b[1;32mnot\u001b[0m \u001b[0mrun_eagerly\u001b[0m\u001b[1;33m:\u001b[0m\u001b[1;33m\u001b[0m\u001b[1;33m\u001b[0m\u001b[0m\n\u001b[0;32m   2487\u001b[0m           \u001b[1;31m# Additional checks to avoid users mistakenly using improper loss fns.\u001b[0m\u001b[1;33m\u001b[0m\u001b[1;33m\u001b[0m\u001b[1;33m\u001b[0m\u001b[0m\n",
      "\u001b[1;32m~\\Anaconda3\\lib\\site-packages\\tensorflow_core\\python\\keras\\engine\\training_utils.py\u001b[0m in \u001b[0;36mcheck_array_lengths\u001b[1;34m(inputs, targets, weights)\u001b[0m\n\u001b[0;32m    742\u001b[0m                      \u001b[1;34m'the same number of samples as target arrays. '\u001b[0m\u001b[1;33m\u001b[0m\u001b[1;33m\u001b[0m\u001b[0m\n\u001b[0;32m    743\u001b[0m                      \u001b[1;34m'Found '\u001b[0m \u001b[1;33m+\u001b[0m \u001b[0mstr\u001b[0m\u001b[1;33m(\u001b[0m\u001b[0mlist\u001b[0m\u001b[1;33m(\u001b[0m\u001b[0mset_x\u001b[0m\u001b[1;33m)\u001b[0m\u001b[1;33m[\u001b[0m\u001b[1;36m0\u001b[0m\u001b[1;33m]\u001b[0m\u001b[1;33m)\u001b[0m \u001b[1;33m+\u001b[0m \u001b[1;34m' input samples '\u001b[0m\u001b[1;33m\u001b[0m\u001b[1;33m\u001b[0m\u001b[0m\n\u001b[1;32m--> 744\u001b[1;33m                      'and ' + str(list(set_y)[0]) + ' target samples.')\n\u001b[0m\u001b[0;32m    745\u001b[0m   \u001b[1;32mif\u001b[0m \u001b[0mlen\u001b[0m\u001b[1;33m(\u001b[0m\u001b[0mset_w\u001b[0m\u001b[1;33m)\u001b[0m \u001b[1;33m>\u001b[0m \u001b[1;36m1\u001b[0m\u001b[1;33m:\u001b[0m\u001b[1;33m\u001b[0m\u001b[1;33m\u001b[0m\u001b[0m\n\u001b[0;32m    746\u001b[0m     raise ValueError('All sample_weight arrays should have '\n",
      "\u001b[1;31mValueError\u001b[0m: Input arrays should have the same number of samples as target arrays. Found 162 input samples and 1 target samples."
     ]
    }
   ],
   "source": [
    "model.fit(x=img, y=pic_label,\n",
    "          batch_size = 32,\n",
    "          epochs = 22)"
   ]
  },
  {
   "cell_type": "code",
   "execution_count": 264,
   "metadata": {},
   "outputs": [
    {
     "ename": "AttributeError",
     "evalue": "'numpy.ndarray' object has no attribute 'iloc'",
     "output_type": "error",
     "traceback": [
      "\u001b[1;31m---------------------------------------------------------------------------\u001b[0m",
      "\u001b[1;31mAttributeError\u001b[0m                            Traceback (most recent call last)",
      "\u001b[1;32m<ipython-input-264-dad9a066b7a3>\u001b[0m in \u001b[0;36m<module>\u001b[1;34m\u001b[0m\n\u001b[0;32m      1\u001b[0m \u001b[0mtrain_x\u001b[0m \u001b[1;33m=\u001b[0m \u001b[0mtrain_x\u001b[0m\u001b[1;33m.\u001b[0m\u001b[0mreshape\u001b[0m\u001b[1;33m(\u001b[0m\u001b[1;36m1\u001b[0m\u001b[1;33m,\u001b[0m \u001b[1;36m1050\u001b[0m\u001b[1;33m,\u001b[0m \u001b[1;36m1\u001b[0m\u001b[1;33m,\u001b[0m \u001b[1;36m1\u001b[0m\u001b[1;33m)\u001b[0m\u001b[1;33m\u001b[0m\u001b[1;33m\u001b[0m\u001b[0m\n\u001b[1;32m----> 2\u001b[1;33m \u001b[0mtrain_x\u001b[0m\u001b[1;33m.\u001b[0m\u001b[0miloc\u001b[0m\u001b[1;33m[\u001b[0m\u001b[1;36m1\u001b[0m\u001b[1;33m,\u001b[0m \u001b[1;33m:\u001b[0m\u001b[1;33m]\u001b[0m\u001b[1;33m\u001b[0m\u001b[1;33m\u001b[0m\u001b[0m\n\u001b[0m",
      "\u001b[1;31mAttributeError\u001b[0m: 'numpy.ndarray' object has no attribute 'iloc'"
     ]
    }
   ],
   "source": [
    "train_x = train_x.reshape(1, 1050, 1, 1)\n",
    "train_x.iloc[1, :]"
   ]
  },
  {
   "cell_type": "code",
   "execution_count": 261,
   "metadata": {},
   "outputs": [
    {
     "ename": "ValueError",
     "evalue": "Input 0 of layer conv2d_23 is incompatible with the layer: expected ndim=4, found ndim=3. Full shape received: [None, 1, 1050]",
     "output_type": "error",
     "traceback": [
      "\u001b[1;31m---------------------------------------------------------------------------\u001b[0m",
      "\u001b[1;31mValueError\u001b[0m                                Traceback (most recent call last)",
      "\u001b[1;32m<ipython-input-261-0eca575d92d5>\u001b[0m in \u001b[0;36m<module>\u001b[1;34m\u001b[0m\n\u001b[0;32m     11\u001b[0m \u001b[1;31m# 1D convolution on images\u001b[0m\u001b[1;33m\u001b[0m\u001b[1;33m\u001b[0m\u001b[1;33m\u001b[0m\u001b[0m\n\u001b[0;32m     12\u001b[0m model.add(tf.keras.layers.Conv2D(32, kernel_size = (3,3), strides = 1, activation = None, use_bias = True,\n\u001b[1;32m---> 13\u001b[1;33m                                  input_shape = (input_l, input_w)))\n\u001b[0m\u001b[0;32m     14\u001b[0m \u001b[1;33m\u001b[0m\u001b[0m\n\u001b[0;32m     15\u001b[0m \u001b[0mmodel\u001b[0m\u001b[1;33m.\u001b[0m\u001b[0mcompile\u001b[0m\u001b[1;33m(\u001b[0m\u001b[0moptimizer\u001b[0m \u001b[1;33m=\u001b[0m \u001b[1;34m'rmsprop'\u001b[0m\u001b[1;33m,\u001b[0m \u001b[0mloss\u001b[0m \u001b[1;33m=\u001b[0m \u001b[1;34m'categorical_crossentropy'\u001b[0m\u001b[1;33m,\u001b[0m \u001b[0mmetrics\u001b[0m \u001b[1;33m=\u001b[0m \u001b[1;33m[\u001b[0m\u001b[1;34m'accuracy'\u001b[0m\u001b[1;33m]\u001b[0m\u001b[1;33m)\u001b[0m\u001b[1;33m\u001b[0m\u001b[1;33m\u001b[0m\u001b[0m\n",
      "\u001b[1;32m~\\Anaconda3\\lib\\site-packages\\tensorflow_core\\python\\training\\tracking\\base.py\u001b[0m in \u001b[0;36m_method_wrapper\u001b[1;34m(self, *args, **kwargs)\u001b[0m\n\u001b[0;32m    455\u001b[0m     \u001b[0mself\u001b[0m\u001b[1;33m.\u001b[0m\u001b[0m_self_setattr_tracking\u001b[0m \u001b[1;33m=\u001b[0m \u001b[1;32mFalse\u001b[0m  \u001b[1;31m# pylint: disable=protected-access\u001b[0m\u001b[1;33m\u001b[0m\u001b[1;33m\u001b[0m\u001b[0m\n\u001b[0;32m    456\u001b[0m     \u001b[1;32mtry\u001b[0m\u001b[1;33m:\u001b[0m\u001b[1;33m\u001b[0m\u001b[1;33m\u001b[0m\u001b[0m\n\u001b[1;32m--> 457\u001b[1;33m       \u001b[0mresult\u001b[0m \u001b[1;33m=\u001b[0m \u001b[0mmethod\u001b[0m\u001b[1;33m(\u001b[0m\u001b[0mself\u001b[0m\u001b[1;33m,\u001b[0m \u001b[1;33m*\u001b[0m\u001b[0margs\u001b[0m\u001b[1;33m,\u001b[0m \u001b[1;33m**\u001b[0m\u001b[0mkwargs\u001b[0m\u001b[1;33m)\u001b[0m\u001b[1;33m\u001b[0m\u001b[1;33m\u001b[0m\u001b[0m\n\u001b[0m\u001b[0;32m    458\u001b[0m     \u001b[1;32mfinally\u001b[0m\u001b[1;33m:\u001b[0m\u001b[1;33m\u001b[0m\u001b[1;33m\u001b[0m\u001b[0m\n\u001b[0;32m    459\u001b[0m       \u001b[0mself\u001b[0m\u001b[1;33m.\u001b[0m\u001b[0m_self_setattr_tracking\u001b[0m \u001b[1;33m=\u001b[0m \u001b[0mprevious_value\u001b[0m  \u001b[1;31m# pylint: disable=protected-access\u001b[0m\u001b[1;33m\u001b[0m\u001b[1;33m\u001b[0m\u001b[0m\n",
      "\u001b[1;32m~\\Anaconda3\\lib\\site-packages\\tensorflow_core\\python\\keras\\engine\\sequential.py\u001b[0m in \u001b[0;36madd\u001b[1;34m(self, layer)\u001b[0m\n\u001b[0;32m    183\u001b[0m           \u001b[1;31m# and create the node connecting the current layer\u001b[0m\u001b[1;33m\u001b[0m\u001b[1;33m\u001b[0m\u001b[1;33m\u001b[0m\u001b[0m\n\u001b[0;32m    184\u001b[0m           \u001b[1;31m# to the input layer we just created.\u001b[0m\u001b[1;33m\u001b[0m\u001b[1;33m\u001b[0m\u001b[1;33m\u001b[0m\u001b[0m\n\u001b[1;32m--> 185\u001b[1;33m           \u001b[0mlayer\u001b[0m\u001b[1;33m(\u001b[0m\u001b[0mx\u001b[0m\u001b[1;33m)\u001b[0m\u001b[1;33m\u001b[0m\u001b[1;33m\u001b[0m\u001b[0m\n\u001b[0m\u001b[0;32m    186\u001b[0m           \u001b[0mset_inputs\u001b[0m \u001b[1;33m=\u001b[0m \u001b[1;32mTrue\u001b[0m\u001b[1;33m\u001b[0m\u001b[1;33m\u001b[0m\u001b[0m\n\u001b[0;32m    187\u001b[0m \u001b[1;33m\u001b[0m\u001b[0m\n",
      "\u001b[1;32m~\\Anaconda3\\lib\\site-packages\\tensorflow_core\\python\\keras\\engine\\base_layer.py\u001b[0m in \u001b[0;36m__call__\u001b[1;34m(self, inputs, *args, **kwargs)\u001b[0m\n\u001b[0;32m    735\u001b[0m         \u001b[1;31m# are casted, not before.\u001b[0m\u001b[1;33m\u001b[0m\u001b[1;33m\u001b[0m\u001b[1;33m\u001b[0m\u001b[0m\n\u001b[0;32m    736\u001b[0m         input_spec.assert_input_compatibility(self.input_spec, inputs,\n\u001b[1;32m--> 737\u001b[1;33m                                               self.name)\n\u001b[0m\u001b[0;32m    738\u001b[0m         if (any(isinstance(x, ragged_tensor.RaggedTensor) for x in input_list)\n\u001b[0;32m    739\u001b[0m             and self._supports_ragged_inputs is False):  # pylint: disable=g-bool-id-comparison\n",
      "\u001b[1;32m~\\Anaconda3\\lib\\site-packages\\tensorflow_core\\python\\keras\\engine\\input_spec.py\u001b[0m in \u001b[0;36massert_input_compatibility\u001b[1;34m(input_spec, inputs, layer_name)\u001b[0m\n\u001b[0;32m    175\u001b[0m                          \u001b[1;34m'expected ndim='\u001b[0m \u001b[1;33m+\u001b[0m \u001b[0mstr\u001b[0m\u001b[1;33m(\u001b[0m\u001b[0mspec\u001b[0m\u001b[1;33m.\u001b[0m\u001b[0mndim\u001b[0m\u001b[1;33m)\u001b[0m \u001b[1;33m+\u001b[0m \u001b[1;34m', found ndim='\u001b[0m \u001b[1;33m+\u001b[0m\u001b[1;33m\u001b[0m\u001b[1;33m\u001b[0m\u001b[0m\n\u001b[0;32m    176\u001b[0m                          \u001b[0mstr\u001b[0m\u001b[1;33m(\u001b[0m\u001b[0mndim\u001b[0m\u001b[1;33m)\u001b[0m \u001b[1;33m+\u001b[0m \u001b[1;34m'. Full shape received: '\u001b[0m \u001b[1;33m+\u001b[0m\u001b[1;33m\u001b[0m\u001b[1;33m\u001b[0m\u001b[0m\n\u001b[1;32m--> 177\u001b[1;33m                          str(x.shape.as_list()))\n\u001b[0m\u001b[0;32m    178\u001b[0m     \u001b[1;32mif\u001b[0m \u001b[0mspec\u001b[0m\u001b[1;33m.\u001b[0m\u001b[0mmax_ndim\u001b[0m \u001b[1;32mis\u001b[0m \u001b[1;32mnot\u001b[0m \u001b[1;32mNone\u001b[0m\u001b[1;33m:\u001b[0m\u001b[1;33m\u001b[0m\u001b[1;33m\u001b[0m\u001b[0m\n\u001b[0;32m    179\u001b[0m       \u001b[0mndim\u001b[0m \u001b[1;33m=\u001b[0m \u001b[0mx\u001b[0m\u001b[1;33m.\u001b[0m\u001b[0mshape\u001b[0m\u001b[1;33m.\u001b[0m\u001b[0mndims\u001b[0m\u001b[1;33m\u001b[0m\u001b[1;33m\u001b[0m\u001b[0m\n",
      "\u001b[1;31mValueError\u001b[0m: Input 0 of layer conv2d_23 is incompatible with the layer: expected ndim=4, found ndim=3. Full shape received: [None, 1, 1050]"
     ]
    }
   ],
   "source": [
    "# normalize picture data\n",
    "\n",
    "input_l = train_x.shape[0]\n",
    "input_w = train_x.shape[1]\n",
    "\n",
    "convoluted_input = tf.keras.layers.BatchNormalization(1, trainable = False)\n",
    "\n",
    "# create model\n",
    "model = tf.keras.models.Sequential()\n",
    "\n",
    "# 1D convolution on images\n",
    "model.add(tf.keras.layers.Conv2D(32, kernel_size = (3,3), strides = 1, activation = None, use_bias = True,\n",
    "                                 input_shape = (input_l, input_w)))\n",
    "\n",
    "model.compile(optimizer = 'rmsprop', loss = 'categorical_crossentropy', metrics = ['accuracy'])\n",
    "# predictions = model.fit(train_x, train_y)\n"
   ]
  },
  {
   "cell_type": "code",
   "execution_count": null,
   "metadata": {},
   "outputs": [],
   "source": [
    "predictions = model.fit(train_x, train_y)"
   ]
  },
  {
   "cell_type": "code",
   "execution_count": null,
   "metadata": {},
   "outputs": [],
   "source": [
    "model.summary()"
   ]
  },
  {
   "cell_type": "code",
   "execution_count": null,
   "metadata": {},
   "outputs": [],
   "source": [
    "test_loss, test_acc = model.evaluate(test_x, test_y)"
   ]
  },
  {
   "cell_type": "code",
   "execution_count": 647,
   "metadata": {},
   "outputs": [],
   "source": [
    "(x_train, y_train), (x_test, y_test) = tf.keras.datasets.fashion_mnist.load_data()\n",
    "\n",
    "x_train = x_train/255.0\n",
    "x_test = x_test/255.0\n",
    "\n",
    "model = tf.keras.models.Sequential([\n",
    "    tf.keras.layers.Conv2D(6, (3,3), activation = 'relu', input_shape = (28, 28, 1)),\n",
    "    tf.keras.layers.MaxPooling2D((2,2)),\n",
    "    tf.keras.layers.Conv2D(14, (3,3), activation = 'relu'),\n",
    "    tf.keras.layers.MaxPooling2D((2,2)),\n",
    "    tf.keras.layers.Flatten(),\n",
    "    tf.keras.layers.Dense(64, activation = 'relu'),\n",
    "    tf.keras.layers.Dense(10, activation = 'softmax')\n",
    "])\n",
    "\n",
    "model.compile(optimizer = 'rmsprop', loss = 'categorical_crossentropy', metrics = ['accuracy'])"
   ]
  },
  {
   "cell_type": "code",
   "execution_count": 649,
   "metadata": {},
   "outputs": [
    {
     "data": {
      "text/plain": [
       "array([0, 0, 3, 0, 2, 7, 2, 5, 5], dtype=uint8)"
      ]
     },
     "execution_count": 649,
     "metadata": {},
     "output_type": "execute_result"
    }
   ],
   "source": [
    "y_train[1:10]"
   ]
  },
  {
   "cell_type": "code",
   "execution_count": 640,
   "metadata": {},
   "outputs": [
    {
     "name": "stdout",
     "output_type": "stream",
     "text": [
      "Model: \"sequential_35\"\n",
      "_________________________________________________________________\n",
      "Layer (type)                 Output Shape              Param #   \n",
      "=================================================================\n",
      "conv2d_26 (Conv2D)           (None, 26, 26, 6)         60        \n",
      "_________________________________________________________________\n",
      "max_pooling2d_24 (MaxPooling (None, 13, 13, 6)         0         \n",
      "_________________________________________________________________\n",
      "conv2d_27 (Conv2D)           (None, 11, 11, 14)        770       \n",
      "_________________________________________________________________\n",
      "max_pooling2d_25 (MaxPooling (None, 5, 5, 14)          0         \n",
      "_________________________________________________________________\n",
      "flatten_24 (Flatten)         (None, 350)               0         \n",
      "_________________________________________________________________\n",
      "dense_45 (Dense)             (None, 64)                22464     \n",
      "_________________________________________________________________\n",
      "dense_46 (Dense)             (None, 10)                650       \n",
      "=================================================================\n",
      "Total params: 23,944\n",
      "Trainable params: 23,944\n",
      "Non-trainable params: 0\n",
      "_________________________________________________________________\n"
     ]
    }
   ],
   "source": [
    "model.summary()"
   ]
  },
  {
   "cell_type": "code",
   "execution_count": 643,
   "metadata": {},
   "outputs": [],
   "source": [
    "x_train = x_train.reshape((60000, 28, 28, 1))\n",
    "x_test = x_test.reshape((10000, 28, 28, 1))\n",
    "\n",
    "y_train = tf.keras.utils.to_categorical(y_train)\n",
    "y_test = tf.keras.utils.to_categorical(y_test)"
   ]
  },
  {
   "cell_type": "code",
   "execution_count": 644,
   "metadata": {},
   "outputs": [
    {
     "name": "stdout",
     "output_type": "stream",
     "text": [
      "Train on 60000 samples\n",
      "Epoch 1/5\n",
      "60000/60000 [==============================] - 31s 520us/sample - loss: 0.6065 - accuracy: 0.7837\n",
      "Epoch 2/5\n",
      "60000/60000 [==============================] - 31s 518us/sample - loss: 0.4153 - accuracy: 0.8513- loss: 0.4153 - accuracy: 0.\n",
      "Epoch 3/5\n",
      "60000/60000 [==============================] - 36s 596us/sample - loss: 0.3685 - accuracy: 0.8679\n",
      "Epoch 4/5\n",
      "60000/60000 [==============================] - 33s 553us/sample - loss: 0.3384 - accuracy: 0.8786\n",
      "Epoch 5/5\n",
      "60000/60000 [==============================] - 35s 585us/sample - loss: 0.3157 - accuracy: 0.8866\n",
      "10000/10000 [==============================] - 4s 399us/sample - loss: 0.3622 - accuracy: 0.8637 - loss: 0.3646 - accu\n"
     ]
    },
    {
     "data": {
      "text/plain": [
       "(0.3622121031284332, 0.8637)"
      ]
     },
     "execution_count": 644,
     "metadata": {},
     "output_type": "execute_result"
    }
   ],
   "source": [
    "history = model.fit(x_train, y_train, epochs = 5, batch_size = 64)\n",
    "\n",
    "test_loss, test_acc = model.evaluate(x_test, y_test)\n",
    "test_loss, test_acc"
   ]
  },
  {
   "cell_type": "code",
   "execution_count": 619,
   "metadata": {},
   "outputs": [
    {
     "ename": "ValueError",
     "evalue": "The truth value of an array with more than one element is ambiguous. Use a.any() or a.all()",
     "output_type": "error",
     "traceback": [
      "\u001b[1;31m---------------------------------------------------------------------------\u001b[0m",
      "\u001b[1;31mValueError\u001b[0m                                Traceback (most recent call last)",
      "\u001b[1;32m<ipython-input-619-ee4eb89e67ac>\u001b[0m in \u001b[0;36m<module>\u001b[1;34m\u001b[0m\n\u001b[0;32m      1\u001b[0m \u001b[0mval\u001b[0m \u001b[1;33m=\u001b[0m \u001b[0mmodel\u001b[0m\u001b[1;33m.\u001b[0m\u001b[0mpredict\u001b[0m\u001b[1;33m(\u001b[0m\u001b[0mx_test\u001b[0m\u001b[1;33m)\u001b[0m\u001b[1;33m\u001b[0m\u001b[1;33m\u001b[0m\u001b[0m\n\u001b[1;32m----> 2\u001b[1;33m \u001b[0mindex\u001b[0m\u001b[1;33m(\u001b[0m\u001b[0mmax\u001b[0m\u001b[1;33m(\u001b[0m\u001b[0mval\u001b[0m\u001b[1;33m)\u001b[0m\u001b[1;33m)\u001b[0m\u001b[1;33m\u001b[0m\u001b[1;33m\u001b[0m\u001b[0m\n\u001b[0m",
      "\u001b[1;31mValueError\u001b[0m: The truth value of an array with more than one element is ambiguous. Use a.any() or a.all()"
     ]
    }
   ],
   "source": [
    "val = model.predict(x_test)"
   ]
  },
  {
   "cell_type": "code",
   "execution_count": 645,
   "metadata": {},
   "outputs": [
    {
     "data": {
      "text/plain": [
       "array([6.8736963e-06, 1.4511286e-07, 1.3656431e-06, 2.5868229e-07,\n",
       "       1.2391682e-06, 2.8979639e-03, 4.6316571e-05, 1.2361527e-02,\n",
       "       5.4407478e-03, 9.7924358e-01], dtype=float32)"
      ]
     },
     "execution_count": 645,
     "metadata": {},
     "output_type": "execute_result"
    }
   ],
   "source": [
    "val[0]"
   ]
  },
  {
   "cell_type": "code",
   "execution_count": 634,
   "metadata": {},
   "outputs": [
    {
     "data": {
      "text/plain": [
       "(0.988371, (array([7], dtype=int64),))"
      ]
     },
     "execution_count": 634,
     "metadata": {},
     "output_type": "execute_result"
    }
   ],
   "source": [
    "idx = np.where(val[60] == np.max(val[60]))\n",
    "np.max(val[60]), idx"
   ]
  },
  {
   "cell_type": "code",
   "execution_count": 633,
   "metadata": {},
   "outputs": [
    {
     "data": {
      "text/plain": [
       "array([0., 0., 0., 0., 0., 0., 0., 1., 0., 0.], dtype=float32)"
      ]
     },
     "execution_count": 633,
     "metadata": {},
     "output_type": "execute_result"
    }
   ],
   "source": [
    "y_test[60]"
   ]
  },
  {
   "cell_type": "code",
   "execution_count": null,
   "metadata": {},
   "outputs": [],
   "source": [
    "def predict_val(model, index_test_df, test_df):\n",
    "    val = model.predict(test_df)\n",
    "    idx = np.where(val[index_test_df] == np.max(val[index_test_df]))\n",
    "    \n",
    "    # what keyword is at idx? return that. \n"
   ]
  },
  {
   "cell_type": "code",
   "execution_count": null,
   "metadata": {},
   "outputs": [],
   "source": [
    "def predict_movie(movies, pic_df, img_list):\n",
    "    predict = []\n",
    "    for i in img_list:\n",
    "        predict.append(predict_val(model, i, pic_df))\n",
    "    \n",
    "    # keywords in predict. using this, get the movie/movies\n",
    "    "
   ]
  }
 ],
 "metadata": {
  "kernelspec": {
   "display_name": "Python 3",
   "language": "python",
   "name": "python3"
  },
  "language_info": {
   "codemirror_mode": {
    "name": "ipython",
    "version": 3
   },
   "file_extension": ".py",
   "mimetype": "text/x-python",
   "name": "python",
   "nbconvert_exporter": "python",
   "pygments_lexer": "ipython3",
   "version": "3.7.3"
  }
 },
 "nbformat": 4,
 "nbformat_minor": 4
}

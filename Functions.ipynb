{
 "cells": [
  {
   "cell_type": "code",
   "execution_count": null,
   "metadata": {},
   "outputs": [],
   "source": [
    "#test_df needs to be a dataframe with column names\n",
    "def predict_categoty(model, image_index, test_df):\n",
    "    val = model.predict(test_df)\n",
    "    \n",
    "    idx = np.where(val[image_index] == np.max(val[image_index]))\n",
    "    columns = test_df.columns\n",
    "    return columns[idx[0][0]]\n",
    "    "
   ]
  },
  {
   "cell_type": "code",
   "execution_count": null,
   "metadata": {},
   "outputs": [],
   "source": [
    "def predict_movie(movies_df,model,img_index_list, test_df):\n",
    "    predicted_output = []\n",
    "    \n",
    "    for index in img_index_list:\n",
    "        predicted_output.append(predict_categoty(model, index, test_df))\n",
    "        \n",
    "    points = [0] * len(movies_df)\n",
    "    \n",
    "    for index, movie in movies_df.iterrows():\n",
    "        temp_list = movie['Keywords']\n",
    "        for output in predicted_output:\n",
    "            if output in temp_list:\n",
    "                points[index] = points[index]+1\n",
    "    \n",
    "    print(\"The movie is \",movies_df['Name'][points.index(max(points))])"
   ]
  },
  {
   "cell_type": "code",
   "execution_count": null,
   "metadata": {},
   "outputs": [],
   "source": [
    "df_movies_edited = pd.read_csv('MoviesListEdited.csv')\n",
    "#print(df_movies_edited)\n",
    "\n",
    "#img_index_list=[8, 10]\n",
    "\n",
    "predict_movie(df_movies_edited, model, img_index_list,x_test)"
   ]
  }
 ],
 "metadata": {
  "kernelspec": {
   "display_name": "Python 3",
   "language": "python",
   "name": "python3"
  },
  "language_info": {
   "codemirror_mode": {
    "name": "ipython",
    "version": 3
   },
   "file_extension": ".py",
   "mimetype": "text/x-python",
   "name": "python",
   "nbconvert_exporter": "python",
   "pygments_lexer": "ipython3",
   "version": "3.8.1"
  }
 },
 "nbformat": 4,
 "nbformat_minor": 4
}
